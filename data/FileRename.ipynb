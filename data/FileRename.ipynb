{
 "cells": [
  {
   "cell_type": "code",
   "execution_count": 2,
   "metadata": {},
   "outputs": [
    {
     "data": {
      "text/plain": [
       "'4.1.0'"
      ]
     },
     "execution_count": 2,
     "metadata": {},
     "output_type": "execute_result"
    }
   ],
   "source": [
    "import os\n",
    "import cv2\n",
    "cv2.__version__"
   ]
  },
  {
   "cell_type": "code",
   "execution_count": 3,
   "metadata": {},
   "outputs": [],
   "source": [
    "path = 'H:\\Final year project\\/FinalYearProject!\\/Male data\\/renameM/'\n",
    "dirs = os.listdir(path)\n",
    "for items in dirs:\n",
    "    s=list(items)\n",
    "    if(s[2]=='C' and s[3]=='U' and s[4]=='M'):\n",
    "       # s[2]='M'\n",
    "        s[3]='O'\n",
    "        #s[4]='N'\n",
    "    tm=\"\".join(s)#new_name\n",
    "    os.rename(path+items, path+tm) \n",
    "    \n",
    "    #print(type(tm))"
   ]
  },
  {
   "cell_type": "code",
   "execution_count": null,
   "metadata": {},
   "outputs": [],
   "source": []
  }
 ],
 "metadata": {
  "kernelspec": {
   "display_name": "Python 3",
   "language": "python",
   "name": "python3"
  },
  "language_info": {
   "codemirror_mode": {
    "name": "ipython",
    "version": 3
   },
   "file_extension": ".py",
   "mimetype": "text/x-python",
   "name": "python",
   "nbconvert_exporter": "python",
   "pygments_lexer": "ipython3",
   "version": "3.7.1"
  }
 },
 "nbformat": 4,
 "nbformat_minor": 2
}
