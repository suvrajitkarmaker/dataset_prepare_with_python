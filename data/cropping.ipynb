{
 "cells": [
  {
   "cell_type": "code",
   "execution_count": 1,
   "metadata": {},
   "outputs": [],
   "source": [
    "import pyautogui\n",
    "import time\n"
   ]
  },
  {
   "cell_type": "code",
   "execution_count": 2,
   "metadata": {},
   "outputs": [
    {
     "data": {
      "text/plain": [
       "Point(x=1339, y=330)"
      ]
     },
     "execution_count": 2,
     "metadata": {},
     "output_type": "execute_result"
    }
   ],
   "source": [
    "pyautogui.position()"
   ]
  },
  {
   "cell_type": "code",
   "execution_count": 5,
   "metadata": {},
   "outputs": [],
   "source": [
    "for po in range(1,662,1):\n",
    "    if(po==1):\n",
    "        pyautogui.click(235,96)#1stpositionclick and open picture\n",
    "        pyautogui.click(235,96)\n",
    "    else:\n",
    "        pyautogui.press('down')\n",
    "        pyautogui.press('enter')\n",
    "    time.sleep(0.5)\n",
    "    for i in range(1,4,1):#percent _change_in_paintApp\n",
    "        time.sleep(0.5)\n",
    "        pyautogui.click(1464,846)\n",
    "    time.sleep(0.5)\n",
    "    pyautogui.click(132,106)#click_for_crop\n",
    "    time.sleep(0.5)\n",
    "    pyautogui.click(132,224)#click_for_crop\n",
    "    pyautogui.hotkey('ctrl', 'shift', 'x')\n",
    "    pyautogui.moveTo(305, 152,duration=1)\n",
    "    pyautogui.dragTo(6, 577, 1,button='left')\n",
    "    pyautogui.hotkey('ctrl', 'shift', 'x')\n",
    "    pyautogui.click(39,15)#click_for_save\n",
    "    pyautogui.click(39,15)#click_for_save\n",
    "    pyautogui.click(1577,5)#click_for_exit\n",
    "    time.sleep(1)"
   ]
  },
  {
   "cell_type": "code",
   "execution_count": 157,
   "metadata": {},
   "outputs": [],
   "source": []
  },
  {
   "cell_type": "code",
   "execution_count": null,
   "metadata": {},
   "outputs": [],
   "source": []
  }
 ],
 "metadata": {
  "kernelspec": {
   "display_name": "Python 3",
   "language": "python",
   "name": "python3"
  },
  "language_info": {
   "codemirror_mode": {
    "name": "ipython",
    "version": 3
   },
   "file_extension": ".py",
   "mimetype": "text/x-python",
   "name": "python",
   "nbconvert_exporter": "python",
   "pygments_lexer": "ipython3",
   "version": "3.7.1"
  }
 },
 "nbformat": 4,
 "nbformat_minor": 2
}
