{
 "cells": [
  {
   "cell_type": "markdown",
   "metadata": {},
   "source": [
    "## File Crop"
   ]
  },
  {
   "cell_type": "code",
   "execution_count": 9,
   "metadata": {
    "collapsed": true
   },
   "outputs": [],
   "source": [
    "import cv2\n",
    "import numpy as np\n",
    "import os\n",
    "import shutil"
   ]
  },
  {
   "cell_type": "code",
   "execution_count": 12,
   "metadata": {
    "collapsed": true
   },
   "outputs": [],
   "source": [
    "def transform(pos):\n",
    "# This function is used to find the corners of the object and the dimensions of the object\n",
    "    pts=[]\n",
    "    n=len(pos)\n",
    "    for i in range(n):\n",
    "        pts.append(list(pos[i][0]))\n",
    "       \n",
    "    sums={}\n",
    "    diffs={}\n",
    "    tl=tr=bl=br=0\n",
    "    for i in pts:\n",
    "        x=i[0]\n",
    "        y=i[1]\n",
    "        sum=x+y\n",
    "        diff=y-x\n",
    "        sums[sum]=i\n",
    "        diffs[diff]=i\n",
    "    sums=sorted(sums.items())\n",
    "    diffs=sorted(diffs.items())\n",
    "    n=len(sums)\n",
    "    rect=[sums[0][1],diffs[0][1],diffs[n-1][1],sums[n-1][1]]\n",
    "    #      top-left   top-right   bottom-left   bottom-right\n",
    "   \n",
    "    h1=np.sqrt((rect[0][0]-rect[2][0])**2 + (rect[0][1]-rect[2][1])**2)     #height of left side\n",
    "    h2=np.sqrt((rect[1][0]-rect[3][0])**2 + (rect[1][1]-rect[3][1])**2)     #height of right side\n",
    "    h=max(h1,h2)\n",
    "   \n",
    "    w1=np.sqrt((rect[0][0]-rect[1][0])**2 + (rect[0][1]-rect[1][1])**2)     #width of upper side\n",
    "    w2=np.sqrt((rect[2][0]-rect[3][0])**2 + (rect[2][1]-rect[3][1])**2)     #width of lower side\n",
    "    w=max(w1,w2)\n",
    "   \n",
    "    return int(w),int(h),rect"
   ]
  },
  {
   "cell_type": "code",
   "execution_count": 13,
   "metadata": {
    "collapsed": true
   },
   "outputs": [],
   "source": [
    "path =  'oldWork/defact/male/scan/'\n",
    "dirs = os.listdir(path)\n",
    "# dirs = ['Scanned Document.jpg']"
   ]
  },
  {
   "cell_type": "code",
   "execution_count": 14,
   "metadata": {},
   "outputs": [
    {
     "name": "stdout",
     "output_type": "stream",
     "text": [
      "0_Bog_21_3_00332.jpg0_Bog_22_3_00334.jpg0_chad_22_3_00335.jpg0_com_21_3_00328.jpg0_ctg_24_3_00325.jpg0_Dha_17_2_321.jpg0_Dha_18_3_00317.jpg0_Dha_18_3_00317.jpg list index out of range  is error==============================\n",
      "0_Dha_20_3_00236.jpg0_Dha_20_3_00319.jpg0_Dha_22_3_00327.jpg0_Dha_22_3_oo326.jpg0_Dha_23_3_00331.jpg0_Din_23_3_00330.jpg0_Feni_20_3_322.jpg0_Jam_22_3_00333.jpg0_kush_24_3_00224.jpg0_kush_24_3_00318.jpg0_Raj_21_3_00323.jpg0_Raj_21_3_00323.jpg list index out of range  is error==============================\n",
      "0_Raj_23_3_00329.jpg0_Thak_24_3_00320.jpgDone\n"
     ]
    }
   ],
   "source": [
    "for item in dirs:\n",
    "    print(item,end='')\n",
    "    try:\n",
    "        if os.path.isfile(path+item):\n",
    "            img=cv2.imread(path+item)\n",
    "            img=cv2.cvtColor(img,cv2.COLOR_BGR2GRAY)\n",
    "            edge=cv2.Canny(img,10,200)\n",
    "            _,contours,_=cv2.findContours(edge.copy(),1,1)\n",
    "            max_area=0\n",
    "            pos=0\n",
    "            for i in contours:\n",
    "                area=cv2.contourArea(i)\n",
    "                if area>max_area:\n",
    "                    max_area=area\n",
    "                    pos=i\n",
    "            peri=cv2.arcLength(pos,True)\n",
    "            approx=cv2.approxPolyDP(pos,0.02*peri,True)\n",
    "            w,h,arr=transform(approx)\n",
    "            pts2=np.float32([[0,0],[w,0],[0,h],[w,h]])\n",
    "            pts1=np.float32(arr)\n",
    "            M=cv2.getPerspectiveTransform(pts1,pts2)\n",
    "            dst=cv2.warpPerspective(img,M,(w,h))\n",
    "#             cv2.imshow('OUTPUT',dst)\n",
    "            cv2.imwrite('oldWork/defact/male/crop/'+item,dst)\n",
    "            cv2.waitKey(0)\n",
    "            cv2.destroyAllWindows()\n",
    "    except Exception as e:\n",
    "        print(item, e, ' is error'+'='*30)\n",
    "        try:\n",
    "            shutil.copy(path+item, \"oldWork/defact/male/crop1/\"+item)\n",
    "        except:\n",
    "            pass\n",
    "print('Done')"
   ]
  },
  {
   "cell_type": "markdown",
   "metadata": {},
   "source": [
    "## Row Crop"
   ]
  },
  {
   "cell_type": "code",
   "execution_count": 9,
   "metadata": {
    "collapsed": true
   },
   "outputs": [],
   "source": [
    "import cv2\n",
    "import os\n",
    "\n",
    "path =  'female/crop/'\n",
    "dirs = os.listdir(path)\n",
    "\n",
    "for item in dirs:\n",
    "    loc = 'female/row/'\n",
    "    image=cv2.imread(path+item)\n",
    "    gap = 75\n",
    "    row = 170\n",
    "    start = 20\n",
    "    end = start + row\n",
    "\n",
    "    for i in range(10):\n",
    "        cropped = image[start:end, 57:-62]\n",
    "        cv2.imwrite(loc+str(i)+'/'+item,cropped)    \n",
    "        start = end+gap\n",
    "        end = start + row"
   ]
  },
  {
   "cell_type": "markdown",
   "metadata": {},
   "source": [
    "## Column Crop"
   ]
  },
  {
   "cell_type": "code",
   "execution_count": 4,
   "metadata": {},
   "outputs": [
    {
     "ename": "SyntaxError",
     "evalue": "invalid syntax (<ipython-input-4-4deb1817a337>, line 1)",
     "output_type": "error",
     "traceback": [
      "\u001b[1;36m  File \u001b[1;32m\"<ipython-input-4-4deb1817a337>\"\u001b[1;36m, line \u001b[1;32m1\u001b[0m\n\u001b[1;33m    .import cv2\u001b[0m\n\u001b[1;37m    ^\u001b[0m\n\u001b[1;31mSyntaxError\u001b[0m\u001b[1;31m:\u001b[0m invalid syntax\n"
     ]
    }
   ],
   "source": [
    "import cv2\n",
    "import os\n",
    "\n",
    "u = 0\n",
    "\n",
    "for j in range(10):\n",
    "    \n",
    "    path =  'pro/'+str(j) + '/'\n",
    "    dirs = os.listdir(path)\n",
    "    \n",
    "    for item in dirs:\n",
    "        image = cv2.imread(path+item)\n",
    "        \n",
    "        v = u\n",
    "        row = 148\n",
    "        gap = 15\n",
    "        start = 0\n",
    "        end = start + row\n",
    "    \n",
    "        for i in range(12):\n",
    "            loc = 'chr/'+ str(u)+'/'\n",
    "            u += 1\n",
    "            \n",
    "            cropped = image[0:-5, start:end]\n",
    "#             cv2.imshow(\"cropped\", cropped)\n",
    "            start = end + gap\n",
    "            end = start + row\n",
    "            cv2.imwrite(loc+item,cropped) \n",
    "        u = v\n",
    "    u = u + 12\n",
    "\n",
    "cv2.waitKey(0)"
   ]
  },
  {
   "cell_type": "markdown",
   "metadata": {},
   "source": [
    "## Apply crop in any location"
   ]
  },
  {
   "cell_type": "code",
   "execution_count": null,
   "metadata": {
    "collapsed": true
   },
   "outputs": [],
   "source": [
    "# load the shapes image, convert it to grayscale, and edge edges in\n",
    "# the image\n",
    "import cv2\n",
    "import os\n",
    "\n",
    "for i in range(119, 119-24,-1):\n",
    "    path =  'chr/'+str(i) + '/'\n",
    "    dirs = os.listdir(path)\n",
    "\n",
    "    for item in dirs:\n",
    "        image=cv2.imread(path+item)\n",
    "        cropped = image[0:-1, 0:-10]\n",
    "        cv2.imwrite(path+item,cropped)   "
   ]
  },
  {
   "cell_type": "code",
   "execution_count": null,
   "metadata": {
    "collapsed": true
   },
   "outputs": [],
   "source": []
  },
  {
   "cell_type": "code",
   "execution_count": null,
   "metadata": {
    "collapsed": true
   },
   "outputs": [],
   "source": []
  },
  {
   "cell_type": "code",
   "execution_count": null,
   "metadata": {
    "collapsed": true
   },
   "outputs": [],
   "source": []
  },
  {
   "cell_type": "code",
   "execution_count": null,
   "metadata": {
    "collapsed": true
   },
   "outputs": [],
   "source": []
  },
  {
   "cell_type": "code",
   "execution_count": null,
   "metadata": {
    "collapsed": true
   },
   "outputs": [],
   "source": []
  },
  {
   "cell_type": "code",
   "execution_count": 1,
   "metadata": {},
   "outputs": [],
   "source": [
    "import os"
   ]
  },
  {
   "cell_type": "code",
   "execution_count": 3,
   "metadata": {},
   "outputs": [],
   "source": [
    "import os\n",
    "distD = 'NIPS_Sample/invert/'\n",
    "for i in range(120):\n",
    "    try:\n",
    "        os.makedirs(distD + str(i))\n",
    "    except Exception as e:\n",
    "        print(e)"
   ]
  },
  {
   "cell_type": "code",
   "execution_count": 3,
   "metadata": {
    "collapsed": true
   },
   "outputs": [],
   "source": [
    "import os\n",
    "for i in ['row','char','main','scan']:\n",
    "    os.makedirs('oldWork/defact/male/'+i)"
   ]
  },
  {
   "cell_type": "code",
   "execution_count": 3,
   "metadata": {},
   "outputs": [],
   "source": [
    "import os\n",
    "os.makedirs('Final/MR/')"
   ]
  },
  {
   "cell_type": "code",
   "execution_count": null,
   "metadata": {
    "collapsed": true
   },
   "outputs": [],
   "source": []
  }
 ],
 "metadata": {
  "kernelspec": {
   "display_name": "Python 3",
   "language": "python",
   "name": "python3"
  },
  "language_info": {
   "codemirror_mode": {
    "name": "ipython",
    "version": 3
   },
   "file_extension": ".py",
   "mimetype": "text/x-python",
   "name": "python",
   "nbconvert_exporter": "python",
   "pygments_lexer": "ipython3",
   "version": "3.7.1"
  }
 },
 "nbformat": 4,
 "nbformat_minor": 2
}
