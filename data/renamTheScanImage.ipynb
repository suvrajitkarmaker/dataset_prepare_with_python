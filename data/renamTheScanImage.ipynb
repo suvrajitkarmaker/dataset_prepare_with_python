{
 "cells": [
  {
   "cell_type": "code",
   "execution_count": null,
   "metadata": {
    "scrolled": true
   },
   "outputs": [],
   "source": [
    "import os\n",
    "import cv2\n",
    "cv2.__version__"
   ]
  },
  {
   "cell_type": "code",
   "execution_count": 1,
   "metadata": {},
   "outputs": [
    {
     "ename": "NameError",
     "evalue": "name 'os' is not defined",
     "output_type": "error",
     "traceback": [
      "\u001b[1;31m---------------------------------------------------------------------------\u001b[0m",
      "\u001b[1;31mNameError\u001b[0m                                 Traceback (most recent call last)",
      "\u001b[1;32m<ipython-input-1-a673879e95de>\u001b[0m in \u001b[0;36m<module>\u001b[1;34m\u001b[0m\n\u001b[0;32m      1\u001b[0m \u001b[0mpath\u001b[0m \u001b[1;33m=\u001b[0m \u001b[1;34m'H:\\Final year project\\check/'\u001b[0m\u001b[1;33m\u001b[0m\u001b[1;33m\u001b[0m\u001b[0m\n\u001b[1;32m----> 2\u001b[1;33m \u001b[0mdirs\u001b[0m \u001b[1;33m=\u001b[0m \u001b[0mos\u001b[0m\u001b[1;33m.\u001b[0m\u001b[0mlistdir\u001b[0m\u001b[1;33m(\u001b[0m\u001b[0mpath\u001b[0m\u001b[1;33m)\u001b[0m\u001b[1;33m\u001b[0m\u001b[1;33m\u001b[0m\u001b[0m\n\u001b[0m\u001b[0;32m      3\u001b[0m \u001b[0ms\u001b[0m \u001b[1;33m=\u001b[0m \u001b[1;36m1500\u001b[0m\u001b[1;33m\u001b[0m\u001b[1;33m\u001b[0m\u001b[0m\n\u001b[0;32m      4\u001b[0m \u001b[1;32mfor\u001b[0m \u001b[0mitems\u001b[0m \u001b[1;32min\u001b[0m \u001b[0mdirs\u001b[0m\u001b[1;33m:\u001b[0m\u001b[1;33m\u001b[0m\u001b[1;33m\u001b[0m\u001b[0m\n\u001b[0;32m      5\u001b[0m     \u001b[0mimg\u001b[0m \u001b[1;33m=\u001b[0m \u001b[0mpath\u001b[0m \u001b[1;33m+\u001b[0m \u001b[0mitems\u001b[0m\u001b[1;33m\u001b[0m\u001b[1;33m\u001b[0m\u001b[0m\n",
      "\u001b[1;31mNameError\u001b[0m: name 'os' is not defined"
     ]
    }
   ],
   "source": [
    "path = 'H:\\Final year project\\check/'\n",
    "dirs = os.listdir(path)\n",
    "s = 1500\n",
    "for items in dirs:\n",
    "    img = path + items\n",
    "    img = cv2.imread(img)\n",
    "    temp = cv2.resize(img,(1000,1000))\n",
    "    temp = temp[0:188, 20:-24]\n",
    "    cv2.imshow(str(items),temp)\n",
    "    cv2.waitKey(0)\n",
    "    age = input('age ')\n",
    "    dis = input('dist ')\n",
    "    edu = input('Edu 0 for primary,  1 for school, 2 for collage, 3 for uni ')\n",
    "#     ser = input('Serial ')\n",
    "    ser = str(s)\n",
    "#     print(s)\n",
    "    s+=1\n",
    "    r = '1_'+dis.upper() + '_' + age + '_' + edu + '_' + ser\n",
    "    \n",
    "    if os.path.exists(path+'renameM/'+r+'.jpg'):\n",
    "        print('Errr')\n",
    "    else:          \n",
    "        cv2.imwrite(path+'renameM/'+r+'.jpg', img)\n",
    "        print(r)\n",
    "        os.remove(path+items)\n",
    "        cv2.destroyAllWindows()"
   ]
  },
  {
   "cell_type": "code",
   "execution_count": null,
   "metadata": {
    "collapsed": true
   },
   "outputs": [],
   "source": [
    "# temp = temp[0:188, 20:-24]\n",
    "# cv2.imshow(str(items),temp)\n",
    "# cv2.waitKey(0)\n",
    "# age = input('age ')\n",
    "# dis = input('dist ')"
   ]
  },
  {
   "cell_type": "code",
   "execution_count": null,
   "metadata": {
    "collapsed": true
   },
   "outputs": [],
   "source": [
    "# for items in dirs:\n",
    "#     img = path + items\n",
    "#     img = cv2.imread(img)\n",
    "#     temp = cv2.resize(img,(783,848))\n",
    "#     cv2.imshow('ff',temp)\n",
    "#     cv2.waitKey(0)\n",
    "#     r = input()\n",
    "#     cv2.imwrite('31marchNEw/'+r+'.jpg', img)\n",
    "    "
   ]
  },
  {
   "cell_type": "code",
   "execution_count": null,
   "metadata": {
    "collapsed": true
   },
   "outputs": [],
   "source": [
    "# ! conda install -c conda-forge opencv "
   ]
  },
  {
   "cell_type": "code",
   "execution_count": null,
   "metadata": {
    "collapsed": true
   },
   "outputs": [],
   "source": []
  }
 ],
 "metadata": {
  "kernelspec": {
   "display_name": "Python 3",
   "language": "python",
   "name": "python3"
  },
  "language_info": {
   "codemirror_mode": {
    "name": "ipython",
    "version": 3
   },
   "file_extension": ".py",
   "mimetype": "text/x-python",
   "name": "python",
   "nbconvert_exporter": "python",
   "pygments_lexer": "ipython3",
   "version": "3.7.1"
  }
 },
 "nbformat": 4,
 "nbformat_minor": 2
}
