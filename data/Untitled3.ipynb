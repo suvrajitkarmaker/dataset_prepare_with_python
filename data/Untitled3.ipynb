{
 "cells": [
  {
   "cell_type": "code",
   "execution_count": null,
   "metadata": {},
   "outputs": [],
   "source": [
    "def fn(xx):\n",
    "    if(len(xx)<6 or len(xx)>12):\n",
    "        return False\n",
    "    elif(x[0]>='0' and x[0]<='9') and (x[len(xx)-1]=='$' or x[len(xx)-1]=='@' or x[len(xx)-1]=='#'):\n",
    "        return True\n",
    "    else:\n",
    "        return False\n",
    "    \n",
    "        \n",
    "    \n",
    "\n",
    "x=input()\n",
    "li=[]\n",
    "tm=\"\"\n",
    "for i in range(0,len(x),1):\n",
    "    if(x[i]==','):\n",
    "        li.append(tm)\n",
    "        tm=\"\"\n",
    "    else:\n",
    "        tm+=x[i]\n",
    "if(len(tm)>0):\n",
    "    li.append(tm)\n",
    "f=0\n",
    "for i in range(0,len(li),1):\n",
    "    if(fn(li[i])==True):\n",
    "        print(li[i])\n"
   ]
  },
  {
   "cell_type": "code",
   "execution_count": null,
   "metadata": {},
   "outputs": [],
   "source": []
  }
 ],
 "metadata": {
  "kernelspec": {
   "display_name": "Python 3",
   "language": "python",
   "name": "python3"
  },
  "language_info": {
   "codemirror_mode": {
    "name": "ipython",
    "version": 3
   },
   "file_extension": ".py",
   "mimetype": "text/x-python",
   "name": "python",
   "nbconvert_exporter": "python",
   "pygments_lexer": "ipython3",
   "version": "3.7.1"
  }
 },
 "nbformat": 4,
 "nbformat_minor": 2
}
