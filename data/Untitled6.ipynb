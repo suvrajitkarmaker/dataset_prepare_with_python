{
 "cells": [
  {
   "cell_type": "code",
   "execution_count": 1,
   "metadata": {},
   "outputs": [
    {
     "name": "stdout",
     "output_type": "stream",
     "text": [
      "['aabc', 'accca', 'dsda']\n"
     ]
    }
   ],
   "source": [
    "n=[\"dsda\",\"aabc\",\"accca\"]\n",
    "n.sort()\n",
    "print(n)\n"
   ]
  },
  {
   "cell_type": "code",
   "execution_count": 16,
   "metadata": {},
   "outputs": [
    {
     "name": "stdout",
     "output_type": "stream",
     "text": [
      "['আমার', 'আমি', 'আমিঅ', 'আমিআ', 'আমিস', 'কলা', 'দসাফ', 'বাবা', 'বিশ্বাস', 'সদাফ', 'স্কুল']\n",
      "কলা\n"
     ]
    }
   ],
   "source": [
    "n=[\"দসাফ\",\"সদাফ\",\"স্কুল\",\"আমি\",\"আমার\",\"আমিস\",\"আমিআ\", \"বিশ্বাস\",\"বাবা\",\"আমিঅ\",\"কলা\"]\n",
    "n.sort()\n",
    "print(n)\n",
    "print(n[5])"
   ]
  },
  {
   "cell_type": "code",
   "execution_count": null,
   "metadata": {},
   "outputs": [],
   "source": []
  }
 ],
 "metadata": {
  "kernelspec": {
   "display_name": "Python 3",
   "language": "python",
   "name": "python3"
  },
  "language_info": {
   "codemirror_mode": {
    "name": "ipython",
    "version": 3
   },
   "file_extension": ".py",
   "mimetype": "text/x-python",
   "name": "python",
   "nbconvert_exporter": "python",
   "pygments_lexer": "ipython3",
   "version": "3.7.1"
  }
 },
 "nbformat": 4,
 "nbformat_minor": 2
}
