{
 "cells": [
  {
   "cell_type": "code",
   "execution_count": null,
   "metadata": {
    "scrolled": true
   },
   "outputs": [],
   "source": [
    "import os\n",
    "import cv2\n",
    "cv2.__version__"
   ]
  },
  {
   "cell_type": "code",
   "execution_count": null,
   "metadata": {},
   "outputs": [],
   "source": [
    "path = 'H:\\Final year project\\check/'\n",
    "dirs = os.listdir(path)\n",
    "s = 1500\n",
    "for items in dirs:\n",
    "    img = path + items\n",
    "    img = cv2.imread(img)\n",
    "    temp = cv2.resize(img,(1000,1000))\n",
    "    temp = temp[0:188, 20:-24]\n",
    "    cv2.imshow(str(items),temp)\n",
    "    cv2.waitKey(0)\n",
    "    age = input('age ')\n",
    "    dis = input('dist ')\n",
    "    edu = input('Edu 0 for primary,  1 for school, 2 for collage, 3 for uni ')\n",
    "#     ser = input('Serial ')\n",
    "    ser = str(s)\n",
    "#     print(s)\n",
    "    s+=1\n",
    "    r = '1_'+dis.upper() + '_' + age + '_' + edu + '_' + ser\n",
    "    \n",
    "    if os.path.exists(path+'renameM/'+r+'.jpg'):\n",
    "        print('Errr')\n",
    "    else:          \n",
    "        cv2.imwrite(path+'renameM/'+r+'.jpg', img)\n",
    "        print(r)\n",
    "        os.remove(path+items)\n",
    "        cv2.destroyAllWindows()"
   ]
  },
  {
   "cell_type": "code",
   "execution_count": null,
   "metadata": {
    "collapsed": true
   },
   "outputs": [],
   "source": [
    "# temp = temp[0:188, 20:-24]\n",
    "# cv2.imshow(str(items),temp)\n",
    "# cv2.waitKey(0)\n",
    "# age = input('age ')\n",
    "# dis = input('dist ')"
   ]
  },
  {
   "cell_type": "code",
   "execution_count": null,
   "metadata": {
    "collapsed": true
   },
   "outputs": [],
   "source": [
    "# for items in dirs:\n",
    "#     img = path + items\n",
    "#     img = cv2.imread(img)\n",
    "#     temp = cv2.resize(img,(783,848))\n",
    "#     cv2.imshow('ff',temp)\n",
    "#     cv2.waitKey(0)\n",
    "#     r = input()\n",
    "#     cv2.imwrite('31marchNEw/'+r+'.jpg', img)\n",
    "    "
   ]
  },
  {
   "cell_type": "code",
   "execution_count": null,
   "metadata": {
    "collapsed": true
   },
   "outputs": [],
   "source": [
    "# ! conda install -c conda-forge opencv "
   ]
  },
  {
   "cell_type": "code",
   "execution_count": null,
   "metadata": {
    "collapsed": true
   },
   "outputs": [],
   "source": []
  }
 ],
 "metadata": {
  "kernelspec": {
   "display_name": "Python 3",
   "language": "python",
   "name": "python3"
  },
  "language_info": {
   "codemirror_mode": {
    "name": "ipython",
    "version": 3
   },
   "file_extension": ".py",
   "mimetype": "text/x-python",
   "name": "python",
   "nbconvert_exporter": "python",
   "pygments_lexer": "ipython3",
   "version": "3.7.1"
  }
 },
 "nbformat": 4,
 "nbformat_minor": 2
}
