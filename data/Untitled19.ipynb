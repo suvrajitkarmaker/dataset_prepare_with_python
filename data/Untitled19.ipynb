{
 "cells": [
  {
   "cell_type": "code",
   "execution_count": 3,
   "metadata": {},
   "outputs": [
    {
     "ename": "ModuleNotFoundError",
     "evalue": "No module named 'bangla_sort'",
     "output_type": "error",
     "traceback": [
      "\u001b[1;31m---------------------------------------------------------------------------\u001b[0m",
      "\u001b[1;31mModuleNotFoundError\u001b[0m                       Traceback (most recent call last)",
      "\u001b[1;32m<ipython-input-3-8699a1f648e2>\u001b[0m in \u001b[0;36m<module>\u001b[1;34m\u001b[0m\n\u001b[1;32m----> 1\u001b[1;33m \u001b[1;32mfrom\u001b[0m \u001b[0mbangla_sort\u001b[0m \u001b[1;32mimport\u001b[0m \u001b[0mbangla\u001b[0m\u001b[1;33m\u001b[0m\u001b[1;33m\u001b[0m\u001b[0m\n\u001b[0m\u001b[0;32m      2\u001b[0m \u001b[1;33m\u001b[0m\u001b[0m\n\u001b[0;32m      3\u001b[0m \u001b[1;33m\u001b[0m\u001b[0m\n\u001b[0;32m      4\u001b[0m \u001b[1;32mdef\u001b[0m \u001b[0mtest_basic\u001b[0m\u001b[1;33m(\u001b[0m\u001b[1;33m)\u001b[0m\u001b[1;33m:\u001b[0m\u001b[1;33m\u001b[0m\u001b[1;33m\u001b[0m\u001b[0m\n\u001b[0;32m      5\u001b[0m     \u001b[1;32massert\u001b[0m \u001b[0msorted\u001b[0m\u001b[1;33m(\u001b[0m\u001b[1;33m[\u001b[0m\u001b[1;34m'খোলা'\u001b[0m\u001b[1;33m,\u001b[0m \u001b[1;34m'খেলা'\u001b[0m\u001b[1;33m]\u001b[0m\u001b[1;33m,\u001b[0m \u001b[0mkey\u001b[0m\u001b[1;33m=\u001b[0m\u001b[0mbangla\u001b[0m\u001b[1;33m)\u001b[0m \u001b[1;33m==\u001b[0m \u001b[1;33m[\u001b[0m\u001b[1;34m'খেলা'\u001b[0m\u001b[1;33m,\u001b[0m \u001b[1;34m'খোলা'\u001b[0m\u001b[1;33m]\u001b[0m\u001b[1;33m\u001b[0m\u001b[1;33m\u001b[0m\u001b[0m\n",
      "\u001b[1;31mModuleNotFoundError\u001b[0m: No module named 'bangla_sort'"
     ]
    }
   ],
   "source": [
    "from bangla_sort import bangla\n",
    "\n",
    "\n",
    "def test_basic():\n",
    "    assert sorted(['খোলা', 'খেলা'], key=bangla) == ['খেলা', 'খোলা']\n",
    "    assert sorted(['ৎ', 'ড়'], key=bangla) == ['ড়', 'ৎ']\n",
    "\n",
    "\n",
    "def test_large():\n",
    "    words = ['রাজধানী', 'ঢাকার', 'কুর্মিটোলা', 'জেনারেল', 'হাসপাতালের', 'সামনের', 'বিমানবন্দর', 'সড়কে', 'বাসচাপায়',\n",
    "             'দুই', 'শিক্ষার্থী', 'নিহত', 'হয়েছে।', 'আহত', 'হয়েছে', '১৩', 'জন।', 'এর', 'মধ্যে', 'একজনের', 'অবস্থা',\n",
    "             'আশঙ্কাজনক।', 'আজ', 'রোববার', 'দুপুর', 'সাড়ে', '১২টার', 'দিকে', 'এই', 'দুর্ঘটনা', 'ঘটে।', 'পরে',\n",
    "             'বিক্ষুব্ধ', 'শিক্ষার্থীরা', 'সড়ক', 'অবরোধ', 'করে।', 'এ', 'সময়', 'যানবাহন', 'ভাঙচুরের', 'ঘটনা', 'ঘটে।',\n",
    "             'নিহত', 'শিক্ষার্থীদের', 'দুজনের', 'নাম', 'জানা', 'গেছে।', 'কুর্মিটোলা', 'জেনারেল', 'হাসপাতালের', 'সহকারী',\n",
    "             'পরিচালক', 'সগির', 'মিয়া', 'প্রথম', 'আলোকে', 'বলেন,', 'নিহত', 'একজনের', 'নাম', 'আবদুল', 'করিম,', 'সে',\n",
    "             'শহীদ', 'রমিজ', 'উদ্দিন', 'ক্যান্টনমেন্ট', 'কলেজের', 'দ্বাদশ', 'শ্রেণিতে', 'পড়ত।', 'একই', 'কলেজের', 'আরেক',\n",
    "             'শিক্ষার্থী', 'দিয়া', 'খানম', 'ওরফে', 'মিম।', 'সে', 'একাদশ', 'শ্রেণির', 'শিক্ষার্থী', 'ছিল।', 'সগির',\n",
    "             'মিয়া', 'জানান,', 'গুরুতর', 'আহত', 'একজনকে', 'কুর্মিটোলা', 'জেনারেল', 'হাসপাতালে', 'ভর্তি', 'করা',\n",
    "             'হয়েছে।', 'আহত', 'আরও', '১২', 'জন', 'ওই', 'হাসপাতালে', 'চিকিৎসা', 'নিয়েছে।', 'তবে', 'তারা', 'আশঙ্কামুক্ত।']\n",
    "    sorted(words, key=bangla)\n",
    "\n",
    "\n",
    "if __name__ == '__main__':\n",
    "    test_basic()\n",
    "    test_large()"
   ]
  },
  {
   "cell_type": "code",
   "execution_count": null,
   "metadata": {},
   "outputs": [],
   "source": []
  }
 ],
 "metadata": {
  "kernelspec": {
   "display_name": "Python 3",
   "language": "python",
   "name": "python3"
  },
  "language_info": {
   "codemirror_mode": {
    "name": "ipython",
    "version": 3
   },
   "file_extension": ".py",
   "mimetype": "text/x-python",
   "name": "python",
   "nbconvert_exporter": "python",
   "pygments_lexer": "ipython3",
   "version": "3.7.1"
  }
 },
 "nbformat": 4,
 "nbformat_minor": 2
}
