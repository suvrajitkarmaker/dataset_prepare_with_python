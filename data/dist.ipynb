{
 "cells": [
  {
   "cell_type": "code",
   "execution_count": 2,
   "metadata": {
    "collapsed": true
   },
   "outputs": [],
   "source": [
    "import pandas as pd"
   ]
  },
  {
   "cell_type": "code",
   "execution_count": 7,
   "metadata": {},
   "outputs": [
    {
     "name": "stderr",
     "output_type": "stream",
     "text": [
      "C:\\Users\\shaha\\Anaconda3\\lib\\site-packages\\pandas\\io\\clipboard\\clipboard.py:63: ParserWarning: Falling back to the 'python' engine because the 'c' engine does not support regex separators (separators > 1 char and different from '\\s+' are interpreted as regex); you can avoid this warning by specifying engine='python'.\n",
      "  return read_table(StringIO(text), sep=sep, **kwargs)\n"
     ]
    }
   ],
   "source": [
    "df = pd.read_clipboard(sep='\\\\t')"
   ]
  },
  {
   "cell_type": "code",
   "execution_count": 8,
   "metadata": {},
   "outputs": [
    {
     "data": {
      "text/html": [
       "<div>\n",
       "<style>\n",
       "    .dataframe thead tr:only-child th {\n",
       "        text-align: right;\n",
       "    }\n",
       "\n",
       "    .dataframe thead th {\n",
       "        text-align: left;\n",
       "    }\n",
       "\n",
       "    .dataframe tbody tr th {\n",
       "        vertical-align: top;\n",
       "    }\n",
       "</style>\n",
       "<table border=\"1\" class=\"dataframe\">\n",
       "  <thead>\n",
       "    <tr style=\"text-align: right;\">\n",
       "      <th></th>\n",
       "      <th>District</th>\n",
       "      <th>Bengali</th>\n",
       "      <th>Division</th>\n",
       "      <th>Population (thousands)[2]</th>\n",
       "      <th>Area (km2)[2]</th>\n",
       "    </tr>\n",
       "  </thead>\n",
       "  <tbody>\n",
       "    <tr>\n",
       "      <th>0</th>\n",
       "      <td>Barguna District</td>\n",
       "      <td>বরগুনা</td>\n",
       "      <td>Barisal</td>\n",
       "      <td>928</td>\n",
       "      <td>1831</td>\n",
       "    </tr>\n",
       "    <tr>\n",
       "      <th>1</th>\n",
       "      <td>Barisal District</td>\n",
       "      <td>বরিশাল</td>\n",
       "      <td>Barisal</td>\n",
       "      <td>2415</td>\n",
       "      <td>2785</td>\n",
       "    </tr>\n",
       "    <tr>\n",
       "      <th>2</th>\n",
       "      <td>Bhola District</td>\n",
       "      <td>ভোলা</td>\n",
       "      <td>Barisal</td>\n",
       "      <td>1846</td>\n",
       "      <td>3403</td>\n",
       "    </tr>\n",
       "    <tr>\n",
       "      <th>3</th>\n",
       "      <td>Jhalokati District</td>\n",
       "      <td>ঝালকাঠি</td>\n",
       "      <td>Barisal</td>\n",
       "      <td>710</td>\n",
       "      <td>736</td>\n",
       "    </tr>\n",
       "    <tr>\n",
       "      <th>4</th>\n",
       "      <td>Patuakhali District</td>\n",
       "      <td>পটুয়াখালী</td>\n",
       "      <td>Barisal</td>\n",
       "      <td>1596</td>\n",
       "      <td>3221</td>\n",
       "    </tr>\n",
       "  </tbody>\n",
       "</table>\n",
       "</div>"
      ],
      "text/plain": [
       "              District     Bengali Division  Population (thousands)[2]  \\\n",
       "0     Barguna District      বরগুনা  Barisal                        928   \n",
       "1     Barisal District      বরিশাল  Barisal                       2415   \n",
       "2       Bhola District        ভোলা  Barisal                       1846   \n",
       "3   Jhalokati District     ঝালকাঠি  Barisal                        710   \n",
       "4  Patuakhali District  পটুয়াখালী  Barisal                       1596   \n",
       "\n",
       "   Area (km2)[2]  \n",
       "0           1831  \n",
       "1           2785  \n",
       "2           3403  \n",
       "3            736  \n",
       "4           3221  "
      ]
     },
     "execution_count": 8,
     "metadata": {},
     "output_type": "execute_result"
    }
   ],
   "source": [
    "df.head()"
   ]
  },
  {
   "cell_type": "code",
   "execution_count": 13,
   "metadata": {},
   "outputs": [],
   "source": [
    "df = df.drop(['Population (thousands)[2]'],axis=1)\n",
    "df = df.drop(['Area (km2)[2]'],axis=1)"
   ]
  },
  {
   "cell_type": "code",
   "execution_count": 14,
   "metadata": {},
   "outputs": [
    {
     "data": {
      "text/html": [
       "<div>\n",
       "<style>\n",
       "    .dataframe thead tr:only-child th {\n",
       "        text-align: right;\n",
       "    }\n",
       "\n",
       "    .dataframe thead th {\n",
       "        text-align: left;\n",
       "    }\n",
       "\n",
       "    .dataframe tbody tr th {\n",
       "        vertical-align: top;\n",
       "    }\n",
       "</style>\n",
       "<table border=\"1\" class=\"dataframe\">\n",
       "  <thead>\n",
       "    <tr style=\"text-align: right;\">\n",
       "      <th></th>\n",
       "      <th>District</th>\n",
       "      <th>Bengali</th>\n",
       "      <th>Division</th>\n",
       "    </tr>\n",
       "  </thead>\n",
       "  <tbody>\n",
       "    <tr>\n",
       "      <th>0</th>\n",
       "      <td>Barguna District</td>\n",
       "      <td>বরগুনা</td>\n",
       "      <td>Barisal</td>\n",
       "    </tr>\n",
       "    <tr>\n",
       "      <th>1</th>\n",
       "      <td>Barisal District</td>\n",
       "      <td>বরিশাল</td>\n",
       "      <td>Barisal</td>\n",
       "    </tr>\n",
       "    <tr>\n",
       "      <th>2</th>\n",
       "      <td>Bhola District</td>\n",
       "      <td>ভোলা</td>\n",
       "      <td>Barisal</td>\n",
       "    </tr>\n",
       "    <tr>\n",
       "      <th>3</th>\n",
       "      <td>Jhalokati District</td>\n",
       "      <td>ঝালকাঠি</td>\n",
       "      <td>Barisal</td>\n",
       "    </tr>\n",
       "    <tr>\n",
       "      <th>4</th>\n",
       "      <td>Patuakhali District</td>\n",
       "      <td>পটুয়াখালী</td>\n",
       "      <td>Barisal</td>\n",
       "    </tr>\n",
       "  </tbody>\n",
       "</table>\n",
       "</div>"
      ],
      "text/plain": [
       "              District     Bengali Division\n",
       "0     Barguna District      বরগুনা  Barisal\n",
       "1     Barisal District      বরিশাল  Barisal\n",
       "2       Bhola District        ভোলা  Barisal\n",
       "3   Jhalokati District     ঝালকাঠি  Barisal\n",
       "4  Patuakhali District  পটুয়াখালী  Barisal"
      ]
     },
     "execution_count": 14,
     "metadata": {},
     "output_type": "execute_result"
    }
   ],
   "source": [
    "df.head()"
   ]
  },
  {
   "cell_type": "code",
   "execution_count": 19,
   "metadata": {},
   "outputs": [],
   "source": [
    "District = df['District']\n",
    "Bengali = df['Bengali']\n",
    "Division = df['Division']"
   ]
  },
  {
   "cell_type": "code",
   "execution_count": null,
   "metadata": {},
   "outputs": [],
   "source": []
  },
  {
   "cell_type": "code",
   "execution_count": 26,
   "metadata": {
    "collapsed": true
   },
   "outputs": [],
   "source": [
    "df2 = pd.DataFrame({'Division':Division.values, 'District':District.values, 'Bengali':Bengali.values,'District Code':District.values})"
   ]
  },
  {
   "cell_type": "code",
   "execution_count": 27,
   "metadata": {},
   "outputs": [
    {
     "data": {
      "text/html": [
       "<div>\n",
       "<style>\n",
       "    .dataframe thead tr:only-child th {\n",
       "        text-align: right;\n",
       "    }\n",
       "\n",
       "    .dataframe thead th {\n",
       "        text-align: left;\n",
       "    }\n",
       "\n",
       "    .dataframe tbody tr th {\n",
       "        vertical-align: top;\n",
       "    }\n",
       "</style>\n",
       "<table border=\"1\" class=\"dataframe\">\n",
       "  <thead>\n",
       "    <tr style=\"text-align: right;\">\n",
       "      <th></th>\n",
       "      <th>Bengali</th>\n",
       "      <th>District</th>\n",
       "      <th>District Code</th>\n",
       "      <th>Division</th>\n",
       "    </tr>\n",
       "  </thead>\n",
       "  <tbody>\n",
       "    <tr>\n",
       "      <th>0</th>\n",
       "      <td>বরগুনা</td>\n",
       "      <td>Barguna District</td>\n",
       "      <td>Barguna District</td>\n",
       "      <td>Barisal</td>\n",
       "    </tr>\n",
       "    <tr>\n",
       "      <th>1</th>\n",
       "      <td>বরিশাল</td>\n",
       "      <td>Barisal District</td>\n",
       "      <td>Barisal District</td>\n",
       "      <td>Barisal</td>\n",
       "    </tr>\n",
       "    <tr>\n",
       "      <th>2</th>\n",
       "      <td>ভোলা</td>\n",
       "      <td>Bhola District</td>\n",
       "      <td>Bhola District</td>\n",
       "      <td>Barisal</td>\n",
       "    </tr>\n",
       "    <tr>\n",
       "      <th>3</th>\n",
       "      <td>ঝালকাঠি</td>\n",
       "      <td>Jhalokati District</td>\n",
       "      <td>Jhalokati District</td>\n",
       "      <td>Barisal</td>\n",
       "    </tr>\n",
       "    <tr>\n",
       "      <th>4</th>\n",
       "      <td>পটুয়াখালী</td>\n",
       "      <td>Patuakhali District</td>\n",
       "      <td>Patuakhali District</td>\n",
       "      <td>Barisal</td>\n",
       "    </tr>\n",
       "  </tbody>\n",
       "</table>\n",
       "</div>"
      ],
      "text/plain": [
       "      Bengali             District        District Code Division\n",
       "0      বরগুনা     Barguna District     Barguna District  Barisal\n",
       "1      বরিশাল     Barisal District     Barisal District  Barisal\n",
       "2        ভোলা       Bhola District       Bhola District  Barisal\n",
       "3     ঝালকাঠি   Jhalokati District   Jhalokati District  Barisal\n",
       "4  পটুয়াখালী  Patuakhali District  Patuakhali District  Barisal"
      ]
     },
     "execution_count": 27,
     "metadata": {},
     "output_type": "execute_result"
    }
   ],
   "source": [
    "df2.head()"
   ]
  },
  {
   "cell_type": "code",
   "execution_count": 30,
   "metadata": {},
   "outputs": [],
   "source": [
    "columnsTitles = ['Division', 'District', 'Bengali','District Code']\n",
    "df2 = df2.reindex(columns=columnsTitles)\n"
   ]
  },
  {
   "cell_type": "code",
   "execution_count": 31,
   "metadata": {},
   "outputs": [
    {
     "data": {
      "text/html": [
       "<div>\n",
       "<style>\n",
       "    .dataframe thead tr:only-child th {\n",
       "        text-align: right;\n",
       "    }\n",
       "\n",
       "    .dataframe thead th {\n",
       "        text-align: left;\n",
       "    }\n",
       "\n",
       "    .dataframe tbody tr th {\n",
       "        vertical-align: top;\n",
       "    }\n",
       "</style>\n",
       "<table border=\"1\" class=\"dataframe\">\n",
       "  <thead>\n",
       "    <tr style=\"text-align: right;\">\n",
       "      <th></th>\n",
       "      <th>Division</th>\n",
       "      <th>District</th>\n",
       "      <th>Bengali</th>\n",
       "      <th>District Code</th>\n",
       "    </tr>\n",
       "  </thead>\n",
       "  <tbody>\n",
       "    <tr>\n",
       "      <th>0</th>\n",
       "      <td>Barisal</td>\n",
       "      <td>Barguna District</td>\n",
       "      <td>বরগুনা</td>\n",
       "      <td>Barguna District</td>\n",
       "    </tr>\n",
       "    <tr>\n",
       "      <th>1</th>\n",
       "      <td>Barisal</td>\n",
       "      <td>Barisal District</td>\n",
       "      <td>বরিশাল</td>\n",
       "      <td>Barisal District</td>\n",
       "    </tr>\n",
       "    <tr>\n",
       "      <th>2</th>\n",
       "      <td>Barisal</td>\n",
       "      <td>Bhola District</td>\n",
       "      <td>ভোলা</td>\n",
       "      <td>Bhola District</td>\n",
       "    </tr>\n",
       "    <tr>\n",
       "      <th>3</th>\n",
       "      <td>Barisal</td>\n",
       "      <td>Jhalokati District</td>\n",
       "      <td>ঝালকাঠি</td>\n",
       "      <td>Jhalokati District</td>\n",
       "    </tr>\n",
       "    <tr>\n",
       "      <th>4</th>\n",
       "      <td>Barisal</td>\n",
       "      <td>Patuakhali District</td>\n",
       "      <td>পটুয়াখালী</td>\n",
       "      <td>Patuakhali District</td>\n",
       "    </tr>\n",
       "  </tbody>\n",
       "</table>\n",
       "</div>"
      ],
      "text/plain": [
       "  Division             District     Bengali        District Code\n",
       "0  Barisal     Barguna District      বরগুনা     Barguna District\n",
       "1  Barisal     Barisal District      বরিশাল     Barisal District\n",
       "2  Barisal       Bhola District        ভোলা       Bhola District\n",
       "3  Barisal   Jhalokati District     ঝালকাঠি   Jhalokati District\n",
       "4  Barisal  Patuakhali District  পটুয়াখালী  Patuakhali District"
      ]
     },
     "execution_count": 31,
     "metadata": {},
     "output_type": "execute_result"
    }
   ],
   "source": [
    "df2.head()"
   ]
  },
  {
   "cell_type": "code",
   "execution_count": 39,
   "metadata": {},
   "outputs": [],
   "source": [
    "df2.to_csv('DistrictCode.csv',encoding=\"utf-8\",index=False)"
   ]
  },
  {
   "cell_type": "code",
   "execution_count": 41,
   "metadata": {},
   "outputs": [
    {
     "data": {
      "text/html": [
       "<div>\n",
       "<style>\n",
       "    .dataframe thead tr:only-child th {\n",
       "        text-align: right;\n",
       "    }\n",
       "\n",
       "    .dataframe thead th {\n",
       "        text-align: left;\n",
       "    }\n",
       "\n",
       "    .dataframe tbody tr th {\n",
       "        vertical-align: top;\n",
       "    }\n",
       "</style>\n",
       "<table border=\"1\" class=\"dataframe\">\n",
       "  <thead>\n",
       "    <tr style=\"text-align: right;\">\n",
       "      <th></th>\n",
       "      <th>Division</th>\n",
       "      <th>District</th>\n",
       "      <th>Bengali</th>\n",
       "      <th>District Code</th>\n",
       "    </tr>\n",
       "  </thead>\n",
       "  <tbody>\n",
       "    <tr>\n",
       "      <th>0</th>\n",
       "      <td>Barisal</td>\n",
       "      <td>Barguna District</td>\n",
       "      <td>বরগুনা</td>\n",
       "      <td>Barguna District</td>\n",
       "    </tr>\n",
       "    <tr>\n",
       "      <th>1</th>\n",
       "      <td>Barisal</td>\n",
       "      <td>Barisal District</td>\n",
       "      <td>বরিশাল</td>\n",
       "      <td>Barisal District</td>\n",
       "    </tr>\n",
       "    <tr>\n",
       "      <th>2</th>\n",
       "      <td>Barisal</td>\n",
       "      <td>Bhola District</td>\n",
       "      <td>ভোলা</td>\n",
       "      <td>Bhola District</td>\n",
       "    </tr>\n",
       "    <tr>\n",
       "      <th>3</th>\n",
       "      <td>Barisal</td>\n",
       "      <td>Jhalokati District</td>\n",
       "      <td>ঝালকাঠি</td>\n",
       "      <td>Jhalokati District</td>\n",
       "    </tr>\n",
       "    <tr>\n",
       "      <th>4</th>\n",
       "      <td>Barisal</td>\n",
       "      <td>Patuakhali District</td>\n",
       "      <td>পটুয়াখালী</td>\n",
       "      <td>Patuakhali District</td>\n",
       "    </tr>\n",
       "  </tbody>\n",
       "</table>\n",
       "</div>"
      ],
      "text/plain": [
       "  Division             District     Bengali        District Code\n",
       "0  Barisal     Barguna District      বরগুনা     Barguna District\n",
       "1  Barisal     Barisal District      বরিশাল     Barisal District\n",
       "2  Barisal       Bhola District        ভোলা       Bhola District\n",
       "3  Barisal   Jhalokati District     ঝালকাঠি   Jhalokati District\n",
       "4  Barisal  Patuakhali District  পটুয়াখালী  Patuakhali District"
      ]
     },
     "execution_count": 41,
     "metadata": {},
     "output_type": "execute_result"
    }
   ],
   "source": [
    "df3 = pd.read_csv('DistrictCode.csv')\n",
    "df3.head()"
   ]
  },
  {
   "cell_type": "code",
   "execution_count": null,
   "metadata": {
    "collapsed": true
   },
   "outputs": [],
   "source": []
  }
 ],
 "metadata": {
  "kernelspec": {
   "display_name": "Python 3",
   "language": "python",
   "name": "python3"
  },
  "language_info": {
   "codemirror_mode": {
    "name": "ipython",
    "version": 3
   },
   "file_extension": ".py",
   "mimetype": "text/x-python",
   "name": "python",
   "nbconvert_exporter": "python",
   "pygments_lexer": "ipython3",
   "version": "3.7.1"
  }
 },
 "nbformat": 4,
 "nbformat_minor": 2
}
