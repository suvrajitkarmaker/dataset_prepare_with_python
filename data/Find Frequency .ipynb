{
 "cells": [
  {
   "cell_type": "code",
   "execution_count": 1,
   "metadata": {
    "collapsed": true
   },
   "outputs": [],
   "source": [
    "import pandas as pd\n",
    "import os\n",
    "import matplotlib.pyplot as plt\n",
    "# %matplotlib inline"
   ]
  },
  {
   "cell_type": "code",
   "execution_count": 2,
   "metadata": {
    "collapsed": true
   },
   "outputs": [],
   "source": [
    "path = '../female/'\n",
    "dire = os.listdir(path)"
   ]
  },
  {
   "cell_type": "code",
   "execution_count": 3,
   "metadata": {},
   "outputs": [
    {
     "name": "stdout",
     "output_type": "stream",
     "text": [
      "['error']\n"
     ]
    }
   ],
   "source": [
    "dis = []\n",
    "for items in dire:\n",
    "    items = items.split('_')\n",
    "    try:\n",
    "        dis.append(items[1])\n",
    "    except:\n",
    "        print(items)"
   ]
  },
  {
   "cell_type": "code",
   "execution_count": 4,
   "metadata": {},
   "outputs": [
    {
     "data": {
      "text/plain": [
       "['1', 'B.baria', '25', '3', '00084.jpg']"
      ]
     },
     "execution_count": 4,
     "metadata": {},
     "output_type": "execute_result"
    }
   ],
   "source": [
    "dire[1].split('_')"
   ]
  },
  {
   "cell_type": "code",
   "execution_count": 5,
   "metadata": {
    "collapsed": true
   },
   "outputs": [],
   "source": [
    "df = pd.DataFrame({'Dis': dis})"
   ]
  },
  {
   "cell_type": "code",
   "execution_count": 6,
   "metadata": {},
   "outputs": [
    {
     "data": {
      "text/html": [
       "<div>\n",
       "<style>\n",
       "    .dataframe thead tr:only-child th {\n",
       "        text-align: right;\n",
       "    }\n",
       "\n",
       "    .dataframe thead th {\n",
       "        text-align: left;\n",
       "    }\n",
       "\n",
       "    .dataframe tbody tr th {\n",
       "        vertical-align: top;\n",
       "    }\n",
       "</style>\n",
       "<table border=\"1\" class=\"dataframe\">\n",
       "  <thead>\n",
       "    <tr style=\"text-align: right;\">\n",
       "      <th></th>\n",
       "      <th>Dis</th>\n",
       "    </tr>\n",
       "  </thead>\n",
       "  <tbody>\n",
       "    <tr>\n",
       "      <th>count</th>\n",
       "      <td>86</td>\n",
       "    </tr>\n",
       "    <tr>\n",
       "      <th>unique</th>\n",
       "      <td>44</td>\n",
       "    </tr>\n",
       "    <tr>\n",
       "      <th>top</th>\n",
       "      <td>Bog</td>\n",
       "    </tr>\n",
       "    <tr>\n",
       "      <th>freq</th>\n",
       "      <td>6</td>\n",
       "    </tr>\n",
       "  </tbody>\n",
       "</table>\n",
       "</div>"
      ],
      "text/plain": [
       "        Dis\n",
       "count    86\n",
       "unique   44\n",
       "top     Bog\n",
       "freq      6"
      ]
     },
     "execution_count": 6,
     "metadata": {},
     "output_type": "execute_result"
    }
   ],
   "source": [
    "df.describe()"
   ]
  },
  {
   "cell_type": "code",
   "execution_count": 7,
   "metadata": {
    "collapsed": true
   },
   "outputs": [],
   "source": [
    "grouped = df.groupby('Dis')\n",
    "sr = pd.Series(data=dis, index=None, dtype=None, name=None, copy=False, fastpath=False)"
   ]
  },
  {
   "cell_type": "code",
   "execution_count": 8,
   "metadata": {},
   "outputs": [
    {
     "data": {
      "text/plain": [
       "Bog        6\n",
       "Com        6\n",
       "Noa        5\n",
       "Dha        5\n",
       "Chad       4\n",
       "Nar        4\n",
       "Tha        3\n",
       "Din        3\n",
       "Bar        3\n",
       "Gaz        2\n",
       "Mym        2\n",
       "Bhola      2\n",
       "Mun        2\n",
       "Jamal      2\n",
       "Shar       2\n",
       "Manik      2\n",
       "Syl        2\n",
       "Sher       2\n",
       "Jes        2\n",
       "Raj        2\n",
       "B.baria    2\n",
       "Mad        1\n",
       "Ran        1\n",
       "Rajb       1\n",
       "Tan        1\n",
       "Rang       1\n",
       "Savar      1\n",
       "Gop        1\n",
       "nar        1\n",
       "Farid      1\n",
       "Pan        1\n",
       "Cand       1\n",
       "Khus       1\n",
       "Naw        1\n",
       "Nao        1\n",
       "khali      1\n",
       "pan        1\n",
       "Khali      1\n",
       "Nars       1\n",
       "said       1\n",
       "Pabna      1\n",
       "Ctg        1\n",
       "com        1\n",
       "Shir       1\n",
       "Name: Dis, dtype: int64"
      ]
     },
     "execution_count": 8,
     "metadata": {},
     "output_type": "execute_result"
    }
   ],
   "source": [
    "df['Dis'].value_counts()"
   ]
  },
  {
   "cell_type": "code",
   "execution_count": 9,
   "metadata": {
    "collapsed": true
   },
   "outputs": [],
   "source": [
    "xv = df[\"Dis\"].value_counts(dropna=False)"
   ]
  },
  {
   "cell_type": "code",
   "execution_count": 10,
   "metadata": {},
   "outputs": [
    {
     "name": "stderr",
     "output_type": "stream",
     "text": [
      "IOPub data rate exceeded.\n",
      "The notebook server will temporarily stop sending output\n",
      "to the client in order to avoid crashing it.\n",
      "To change this limit, set the config variable\n",
      "`--NotebookApp.iopub_data_rate_limit`.\n"
     ]
    }
   ],
   "source": [
    "from plotly.offline import iplot, init_notebook_mode\n",
    "import plotly.graph_objs as go\n",
    "import cufflinks as cf"
   ]
  },
  {
   "cell_type": "code",
   "execution_count": 11,
   "metadata": {},
   "outputs": [
    {
     "name": "stderr",
     "output_type": "stream",
     "text": [
      "'--NotebookApp.iopub_data_rate_limit' is not recognized as an internal or external command,\n",
      "operable program or batch file.\n"
     ]
    }
   ],
   "source": [
    "type(xv)\n",
    "! --NotebookApp.iopub_data_rate_limit"
   ]
  },
  {
   "cell_type": "code",
   "execution_count": 12,
   "metadata": {},
   "outputs": [
    {
     "data": {
      "text/plain": [
       "'file://C:\\\\Users\\\\shaha\\\\Desktop\\\\data processing\\\\DataProcessingScript\\\\temp-plot.html'"
      ]
     },
     "execution_count": 12,
     "metadata": {},
     "output_type": "execute_result"
    }
   ],
   "source": [
    "import plotly as py\n",
    "import plotly.graph_objs as go\n",
    "\n",
    "import pandas as pd\n",
    "import numpy as np\n",
    "\n",
    "# df.head()\n",
    "\n",
    "data = [\n",
    "    go.Bar(\n",
    "        x=xv.index, # assign x as the dataframe column 'x'\n",
    "        y=xv.values\n",
    "    )\n",
    "]\n",
    "\n",
    "# IPython notebook\n",
    "py.offline.plot(data)\n"
   ]
  },
  {
   "cell_type": "markdown",
   "metadata": {},
   "source": [
    "#### Move file"
   ]
  },
  {
   "cell_type": "code",
   "execution_count": 70,
   "metadata": {
    "collapsed": true
   },
   "outputs": [],
   "source": [
    "import shutil\n",
    "path = '../test/'\n",
    "move = path + 'move/'\n",
    "\n",
    "for i in range(0,10):\n",
    "    pathN = path+'/'+str(i)+'/'\n",
    "    dirr = os.listdir(pathN)\n",
    "    for items in dirr:\n",
    "        item = items.split('_')\n",
    "        try:\n",
    "            if item[1] == 'Dha':\n",
    "                shutil.move(pathN+items, move+'Dhaka/'+str(i)+'/'+items)\n",
    "                \n",
    "            elif item[1] == 'Tan':\n",
    "                shutil.move(pathN+items, move+'Tang/'+str(i)+'/'+items)\n",
    "            \n",
    "            elif item[1] == 'Com':\n",
    "                shutil.move(pathN+items, move+'Com/'+str(i)+'/'+items)\n",
    "            \n",
    "            elif item[1] == 'Chan':\n",
    "                shutil.move(pathN+items, move+'Chan/'+str(i)+'/'+items)\n",
    "                \n",
    "            elif item[1] == 'Bog':\n",
    "                shutil.move(pathN+items, move+'BOg/'+str(i)+'/'+items)\n",
    "        except Exception as e:\n",
    "            print(e)\n",
    "        "
   ]
  },
  {
   "cell_type": "code",
   "execution_count": 34,
   "metadata": {
    "collapsed": true
   },
   "outputs": [],
   "source": [
    "import numpy as np\n",
    "\n",
    "from PIL import Image \n",
    "import PIL.ImageOps\n",
    "import csv\n",
    "\n",
    "class Process:\n",
    "\n",
    "    def __init__(self,path,invert=True):\n",
    "        self.path = path\n",
    "        self.invert = invert\n",
    "        \n",
    "    def getData(self):\n",
    "        image = Image.open(self.path)\n",
    "#         image = process_image_for_ocr(self.path)\n",
    "        image = image.resize((28,28), Image.ANTIALIAS).convert('L')\n",
    "        if self.invert is False:\n",
    "            image = PIL.ImageOps.invert(image)\n",
    "            pixels = np.asarray(image)\n",
    "#             pixels = pixels/255.0\n",
    "            pixels = pixels.reshape(-1,28,28,1)\n",
    "        else:\n",
    "            pixels = np.asarray(image)\n",
    "            pixels = pixels.reshape(-1,28,28,1) \n",
    "        return pixels"
   ]
  },
  {
   "cell_type": "code",
   "execution_count": 35,
   "metadata": {
    "collapsed": true
   },
   "outputs": [],
   "source": [
    "acc2 = {'Bog':[], 'Chan':[], 'Com':[], 'Dhaka':[], 'Tang':[]}"
   ]
  },
  {
   "cell_type": "code",
   "execution_count": 36,
   "metadata": {},
   "outputs": [],
   "source": [
    "from keras.models import load_model\n",
    "model = load_model('9261test9911bncmtdb1.5per.h5')"
   ]
  },
  {
   "cell_type": "code",
   "execution_count": null,
   "metadata": {
    "collapsed": true
   },
   "outputs": [],
   "source": []
  },
  {
   "cell_type": "code",
   "execution_count": null,
   "metadata": {
    "collapsed": true
   },
   "outputs": [],
   "source": []
  },
  {
   "cell_type": "code",
   "execution_count": null,
   "metadata": {
    "collapsed": true
   },
   "outputs": [],
   "source": []
  },
  {
   "cell_type": "code",
   "execution_count": null,
   "metadata": {
    "collapsed": true
   },
   "outputs": [],
   "source": []
  },
  {
   "cell_type": "code",
   "execution_count": null,
   "metadata": {
    "collapsed": true
   },
   "outputs": [],
   "source": [
    "acc2 = {'M':[], 'F':[], 'Com':[], 'Dhaka':[], 'Tang':[]}"
   ]
  },
  {
   "cell_type": "code",
   "execution_count": 41,
   "metadata": {},
   "outputs": [
    {
     "data": {
      "text/plain": [
       "22.944100856781006"
      ]
     },
     "execution_count": 41,
     "metadata": {},
     "output_type": "execute_result"
    }
   ],
   "source": [
    "import time\n",
    "z = time.time()\n",
    "predict = []\n",
    "real = []\n",
    "import os\n",
    "\n",
    "# path = '../test/move/'\n",
    "# dirs = os.listdir(path)\n",
    "# for p in dirs:\n",
    "# #     predict = []\n",
    "# #     real = []\n",
    "path = '../male/Data/M/main120/'\n",
    "try:\n",
    "    for i in range(0,10):\n",
    "        newPath=path+str(i+110)+'/'\n",
    "        dirr = os.listdir(newPath)\n",
    "        for items in dirr:\n",
    "            a = Process(newPath+items,invert=False)\n",
    "            a = a.getData()\n",
    "            a = np.argmax(model.predict(a))\n",
    "            real.append(i)\n",
    "            predict.append(a)\n",
    "\n",
    "#         acc2[p].append(accuracy_score(Y_test,results) )\n",
    "except Exception as e:\n",
    "    print(e)\n",
    "zz = time.time()\n",
    "zz-z"
   ]
  },
  {
   "cell_type": "code",
   "execution_count": null,
   "metadata": {
    "collapsed": true
   },
   "outputs": [],
   "source": []
  },
  {
   "cell_type": "code",
   "execution_count": 158,
   "metadata": {},
   "outputs": [
    {
     "name": "stdout",
     "output_type": "stream",
     "text": [
      "0.9475\n",
      "0.985\n",
      "0.985\n",
      "0.9775\n",
      "0.9825\n"
     ]
    }
   ],
   "source": [
    "print(np.mean(acc2['Dhaka']))\n",
    "print(np.mean(acc2['Tang']))\n",
    "print(np.mean(acc2['Bog']))\n",
    "print(np.mean(acc2['Com']))\n",
    "print(np.mean(acc2['Chan']))"
   ]
  },
  {
   "cell_type": "code",
   "execution_count": 201,
   "metadata": {},
   "outputs": [
    {
     "data": {
      "image/png": "[encoded data removed]",
      "text/plain": [
       "<matplotlib.figure.Figure at 0x26cd09b9cc0>"
      ]
     },
     "metadata": {},
     "output_type": "display_data"
    }
   ],
   "source": [
    "import matplotlib.pyplot as plt; plt.rcdefaults()\n",
    "import numpy as np\n",
    "import matplotlib.pyplot as plt\n",
    "\n",
    "objects = ('Dhaka', 'Comilla', 'Chadpur', 'Bogra', 'Tangail')\n",
    "y_pos = np.arange(len(objects))\n",
    "performance = [0.9475,0.9775,0.9825,0.985,0.985]\n",
    " \n",
    "plt.bar(y_pos, performance, align='center', alpha=0.6)\n",
    "plt.xticks(y_pos, objects)\n",
    "plt.ylabel('Accuracy')\n",
    "plt.title('Region Base Handwritten Detection Accuracy')\n",
    "plt.ylim(.9,.99)\n",
    "plt.show()"
   ]
  },
  {
   "cell_type": "code",
   "execution_count": 42,
   "metadata": {},
   "outputs": [
    {
     "name": "stdout",
     "output_type": "stream",
     "text": [
      "3060\n",
      "Accuracy score 0.967973856209\n",
      "mean_squared_error 0.929738562092\n",
      "classification_report\n",
      "              precision    recall  f1-score   support\n",
      "\n",
      "          0       1.00      0.96      0.98       306\n",
      "          1       0.96      0.92      0.94       306\n",
      "          2       0.99      0.99      0.99       306\n",
      "          3       0.97      0.96      0.96       306\n",
      "          4       0.98      0.98      0.98       306\n",
      "          5       0.97      0.97      0.97       306\n",
      "          6       0.95      0.98      0.96       306\n",
      "          7       0.99      0.98      0.98       306\n",
      "          8       0.97      0.98      0.97       306\n",
      "          9       0.91      0.96      0.94       306\n",
      "\n",
      "avg / total       0.97      0.97      0.97      3060\n",
      "\n",
      "confusion_matrix\n",
      " [[293   1   0   6   1   0   0   0   2   3]\n",
      " [  0 283   2   1   0   0   0   0   0  20]\n",
      " [  0   0 303   0   0   1   0   1   1   0]\n",
      " [  0   1   0 293   0   1   9   0   2   0]\n",
      " [  0   1   0   0 299   2   2   0   2   0]\n",
      " [  0   0   0   0   1 298   3   1   3   0]\n",
      " [  0   0   0   1   1   3 301   0   0   0]\n",
      " [  0   0   0   1   2   1   0 299   0   3]\n",
      " [  0   0   0   0   2   0   3   0 299   2]\n",
      " [  1   9   1   0   0   0   0   1   0 294]]\n"
     ]
    }
   ],
   "source": [
    "Y_test = np.array(real)\n",
    "results = np.array(predict)\n",
    "print(len(Y_test))\n",
    "from sklearn.metrics import accuracy_score, classification_report, confusion_matrix\n",
    "from sklearn.metrics import log_loss,mean_squared_error,precision_recall_fscore_support\n",
    "print('Accuracy score',accuracy_score(Y_test,results))\n",
    "print('mean_squared_error',mean_squared_error(Y_test,results))\n",
    "print('classification_report\\n',classification_report(Y_test,results))\n",
    "print('confusion_matrix\\n',confusion_matrix(Y_test,results))\n",
    "# Accuracy score 0.976744186047\n",
    "# Accuracy score 0.968604651163"
   ]
  },
  {
   "cell_type": "code",
   "execution_count": 1,
   "metadata": {},
   "outputs": [
    {
     "data": {
      "image/png": "[encoded data removed]",
      "text/plain": [
       "<matplotlib.figure.Figure at 0x1b7612e3898>"
      ]
     },
     "metadata": {},
     "output_type": "display_data"
    }
   ],
   "source": [
    "import matplotlib.pyplot as plt; plt.rcdefaults()\n",
    "import numpy as np\n",
    "import matplotlib.pyplot as plt\n",
    "\n",
    "objects = ('Female', 'Male')\n",
    "y_pos = np.arange(len(objects))\n",
    "performance = [0.976744186047,0.968604651163]\n",
    " \n",
    "plt.bar(y_pos, performance, align='center', alpha=0.6)\n",
    "plt.xticks(y_pos, objects)\n",
    "plt.ylabel('Accuracy')\n",
    "plt.title('Gender Base Handwritten Detection Accuracy')\n",
    "plt.ylim(.95,.98)\n",
    "plt.show()"
   ]
  },
  {
   "cell_type": "code",
   "execution_count": 55,
   "metadata": {},
   "outputs": [
    {
     "name": "stdout",
     "output_type": "stream",
     "text": [
      "['.ipynb_checkpoints', 'Bog', 'Chan', 'Com', 'Dhaka', 'Tang', 'Untitled.ipynb']\n"
     ]
    }
   ],
   "source": [
    "path = '../test/move/'\n",
    "dirr = os.listdir(path)\n",
    "print(dirr)"
   ]
  },
  {
   "cell_type": "code",
   "execution_count": 54,
   "metadata": {},
   "outputs": [
    {
     "name": "stdout",
     "output_type": "stream",
     "text": [
      "0\n"
     ]
    }
   ],
   "source": [
    "# import time\n",
    "# z = time.time()\n",
    "# predict = []\n",
    "# real = []\n",
    "# path = '../test/move/Dhaka/0/'\n",
    "# # newPath=path+str(i)+'/'\n",
    "# dirr = os.listdir(path=path)\n",
    "# for items in dirr:\n",
    "#     a = Process(newPath+items,invert=False)\n",
    "#     a = a.getData()\n",
    "#     a = np.argmax(model.predict(a))\n",
    "# #     real.append(i)\n",
    "#     predict.append(a)\n",
    "\n",
    "\n",
    "import time\n",
    "z = time.time()\n",
    "predict = []\n",
    "real = []\n",
    "path = '../test/move/Bog/0/0_Bog_21_3_00235.jpg'\n",
    "# path = 'Untitled.jpg'\n",
    "# newPath=path+str(i)+'/'\n",
    "# dirr = os.listdir(path=path)\n",
    "a = Process(path,invert=False)\n",
    "a = a.getData()\n",
    "print(np.argmax(model.predict(a)))\n",
    "#     real.append(i)\n",
    "# print(a)"
   ]
  },
  {
   "cell_type": "code",
   "execution_count": 24,
   "metadata": {
    "collapsed": true
   },
   "outputs": [],
   "source": [
    "# best = 0\n",
    "# maxsize = 0\n",
    "# count = 0\n",
    "# # for cnt in contours:\n",
    "# #     if cv2.contourArea(cnt) > maxsize :\n",
    "# #         maxsize = cv2.contourArea(cnt)\n",
    "# #         best = count\n",
    "\n",
    "# #     count = count + 1\n",
    "\n",
    "# img = '../test/0/0_B.baria_20_3_00266.jpg'\n",
    "# x,y,w,h = cv2.boundingRect(cnt[best])\n",
    "# cv2.rectangle(img,(x,y),(x+w,y+h),(0,255,0),2)"
   ]
  },
  {
   "cell_type": "code",
   "execution_count": 5,
   "metadata": {},
   "outputs": [
    {
     "data": {
      "text/plain": [
       "-1"
      ]
     },
     "execution_count": 5,
     "metadata": {},
     "output_type": "execute_result"
    }
   ],
   "source": [
    "import cv2\n",
    "import numpy as np\n",
    "\n",
    "\n",
    "BINARY_THREHOLD = 180\n",
    "\n",
    "\n",
    "# load image\n",
    "img = cv2.imread('../female_final_60-120/110/1_Bar_20_3_00009.jpg') \n",
    "# rsz_img = cv2.resize(img, None, fx=0.25, fy=0.25) # resize since image is huge\n",
    "gray = cv2.cvtColor(img, cv2.COLOR_BGR2GRAY) # convert to grayscale\n",
    "# threshold to get just the signature\n",
    "retval, thresh_gray = cv2.threshold(gray, thresh=100, maxval=255, type=cv2.THRESH_BINARY)\n",
    "\n",
    "\n",
    "# find where the signature is and make a cropped region\n",
    "points = np.argwhere(thresh_gray==0) # find where the black pixels are\n",
    "points = np.fliplr(points) # store them in x,y coordinates instead of row,col indices\n",
    "x, y, w, h = cv2.boundingRect(points) # create a rectangle around those points\n",
    "x, y, w, h = x-10, y-10, w+20, h+20 # make the box a little bigger\n",
    "crop = gray[y:y+h, x:x+w] # create a cropped region of the gray image\n",
    "\n",
    "# get the thresholded crop\n",
    "retval, thresh_crop = cv2.threshold(crop, thresh=100, maxval=255, type=cv2.THRESH_BINARY)\n",
    "\n",
    "# display\n",
    "cv2.imshow(\"Cropped and thresholded image\", thresh_crop) \n",
    "cv2.waitKey(0)"
   ]
  },
  {
   "cell_type": "code",
   "execution_count": 41,
   "metadata": {},
   "outputs": [
    {
     "data": {
      "text/plain": [
       "(109, 120, 3)"
      ]
     },
     "execution_count": 41,
     "metadata": {},
     "output_type": "execute_result"
    }
   ],
   "source": [
    "# img = cv2.imread('../croped/resized/process/female/0/1_B.baria_22_3_00039.jpg') \n",
    "img = cv2.imread('../test/move/Bog/0/0_Bog_21_3_00235.jpg') \n",
    "\n",
    "img.shape"
   ]
  },
  {
   "cell_type": "code",
   "execution_count": 45,
   "metadata": {},
   "outputs": [
    {
     "ename": "AttributeError",
     "evalue": "'numpy.ndarray' object has no attribute 'convert'",
     "output_type": "error",
     "traceback": [
      "\u001b[1;31m---------------------------------------------------------------------------\u001b[0m",
      "\u001b[1;31mAttributeError\u001b[0m                            Traceback (most recent call last)",
      "\u001b[1;32m<ipython-input-45-dbd56225c183>\u001b[0m in \u001b[0;36m<module>\u001b[1;34m()\u001b[0m\n\u001b[1;32m----> 1\u001b[1;33m \u001b[0mthresh_crop\u001b[0m\u001b[1;33m.\u001b[0m\u001b[0mconvert\u001b[0m\u001b[1;33m(\u001b[0m\u001b[1;34m'L'\u001b[0m\u001b[1;33m)\u001b[0m\u001b[1;33m\u001b[0m\u001b[0m\n\u001b[0m",
      "\u001b[1;31mAttributeError\u001b[0m: 'numpy.ndarray' object has no attribute 'convert'"
     ]
    }
   ],
   "source": [
    "thresh_crop.convert('L')"
   ]
  },
  {
   "cell_type": "code",
   "execution_count": 6,
   "metadata": {},
   "outputs": [
    {
     "data": {
      "text/plain": [
       "(44, 48)"
      ]
     },
     "execution_count": 6,
     "metadata": {},
     "output_type": "execute_result"
    }
   ],
   "source": [
    "thresh_crop.shape"
   ]
  },
  {
   "cell_type": "code",
   "execution_count": 11,
   "metadata": {},
   "outputs": [
    {
     "ename": "NameError",
     "evalue": "name 'Image' is not defined",
     "output_type": "error",
     "traceback": [
      "\u001b[1;31m---------------------------------------------------------------------------\u001b[0m",
      "\u001b[1;31mNameError\u001b[0m                                 Traceback (most recent call last)",
      "\u001b[1;32m<ipython-input-11-dca1c60e78a4>\u001b[0m in \u001b[0;36m<module>\u001b[1;34m()\u001b[0m\n\u001b[1;32m----> 1\u001b[1;33m \u001b[0mi\u001b[0m \u001b[1;33m=\u001b[0m \u001b[0mImage\u001b[0m\u001b[1;33m.\u001b[0m\u001b[0mfromarray\u001b[0m\u001b[1;33m(\u001b[0m\u001b[0mthresh_crop\u001b[0m\u001b[1;33m)\u001b[0m\u001b[1;33m\u001b[0m\u001b[0m\n\u001b[0m",
      "\u001b[1;31mNameError\u001b[0m: name 'Image' is not defined"
     ]
    }
   ],
   "source": [
    "i = Image.fromarray(thresh_crop)"
   ]
  },
  {
   "cell_type": "code",
   "execution_count": 9,
   "metadata": {},
   "outputs": [
    {
     "ename": "NameError",
     "evalue": "name 'i' is not defined",
     "output_type": "error",
     "traceback": [
      "\u001b[1;31m---------------------------------------------------------------------------\u001b[0m",
      "\u001b[1;31mNameError\u001b[0m                                 Traceback (most recent call last)",
      "\u001b[1;32m<ipython-input-9-7c9151a375ea>\u001b[0m in \u001b[0;36m<module>\u001b[1;34m()\u001b[0m\n\u001b[1;32m----> 1\u001b[1;33m \u001b[0mtype\u001b[0m\u001b[1;33m(\u001b[0m\u001b[0mi\u001b[0m\u001b[1;33m)\u001b[0m\u001b[1;33m\u001b[0m\u001b[0m\n\u001b[0m",
      "\u001b[1;31mNameError\u001b[0m: name 'i' is not defined"
     ]
    }
   ],
   "source": [
    "type(i)"
   ]
  },
  {
   "cell_type": "code",
   "execution_count": 45,
   "metadata": {},
   "outputs": [
    {
     "data": {
      "image/png": "[encoded data removed]",
      "text/plain": [
       "<PIL.Image.Image image mode=L size=83x84 at 0x1B5A7BD4518>"
      ]
     },
     "execution_count": 45,
     "metadata": {},
     "output_type": "execute_result"
    }
   ],
   "source": [
    "i"
   ]
  },
  {
   "cell_type": "code",
   "execution_count": 7,
   "metadata": {},
   "outputs": [
    {
     "data": {
      "text/plain": [
       "(109, 120, 3)"
      ]
     },
     "execution_count": 7,
     "metadata": {},
     "output_type": "execute_result"
    }
   ],
   "source": [
    "img.shape"
   ]
  },
  {
   "cell_type": "code",
   "execution_count": 68,
   "metadata": {
    "collapsed": true
   },
   "outputs": [],
   "source": [
    "a = [['Bog'], ['Chan'], ['Com'], ['Dhaka'], ['Tang']]"
   ]
  },
  {
   "cell_type": "code",
   "execution_count": 62,
   "metadata": {
    "collapsed": true
   },
   "outputs": [],
   "source": [
    "a.append([1,2])"
   ]
  },
  {
   "cell_type": "code",
   "execution_count": 10,
   "metadata": {},
   "outputs": [
    {
     "data": {
      "text/plain": [
       "900"
      ]
     },
     "execution_count": 10,
     "metadata": {},
     "output_type": "execute_result"
    }
   ],
   "source": [
    "import os\n",
    "os.path.getsize('../croped/resized/process/fs2/0/1_Com_21_3_00021.jpg')"
   ]
  },
  {
   "cell_type": "code",
   "execution_count": 17,
   "metadata": {
    "collapsed": true
   },
   "outputs": [],
   "source": [
    "import os\n",
    "import shutil\n",
    "pathN = '../croped/resized/process/fs2/'\n",
    "mainN = '../croped/resized/process/femaleScan/'\n",
    "for i in range(0,120):\n",
    "    path = pathN+str(i)+'/'\n",
    "    main = mainN+str(i)+'/'\n",
    "    dirs = os.listdir(path)\n",
    "    for item in dirs:\n",
    "        if os.path.isfile(path+item):\n",
    "            x = os.path.getsize(path+item)\n",
    "            if x < 830:\n",
    "                shutil.move(path+item, \"../err/\"+str(i)+'/'+item)\n",
    "                shutil.copy2(main+item, \"../err/err1/\"+str(i)+'/'+item)"
   ]
  },
  {
   "cell_type": "code",
   "execution_count": 15,
   "metadata": {
    "collapsed": true
   },
   "outputs": [],
   "source": [
    "# import os\n",
    "# newpath = '../err/' \n",
    "# for i in range(120):\n",
    "#     #if not os.path.exists(newpath):\n",
    "#     os.makedirs(newpath+str(i)+'/')"
   ]
  },
  {
   "cell_type": "code",
   "execution_count": 17,
   "metadata": {
    "collapsed": true
   },
   "outputs": [],
   "source": [
    "import os\n"
   ]
  },
  {
   "cell_type": "code",
   "execution_count": 7,
   "metadata": {},
   "outputs": [
    {
     "data": {
      "text/plain": [
       "'C:\\\\Users\\\\shaha\\\\Desktop\\\\data processing\\\\DataProcessingScript'"
      ]
     },
     "execution_count": 7,
     "metadata": {},
     "output_type": "execute_result"
    }
   ],
   "source": []
  },
  {
   "cell_type": "code",
   "execution_count": 52,
   "metadata": {
    "scrolled": true
   },
   "outputs": [
    {
     "name": "stdout",
     "output_type": "stream",
     "text": [
      "0 = 0\n",
      "1 = 120\n",
      "2 = 0\n",
      "3 = 0\n",
      "4 = 0\n",
      "5 = 0\n",
      "6 = 0\n",
      "7 = 0\n",
      "8 = 120\n",
      "9 = 1320\n",
      "10 = 3960\n",
      "11 = 6480\n",
      "12 = 17520\n",
      "13 = 21240\n",
      "14 = 24720\n",
      "15 = 28920\n",
      "16 = 16320\n",
      "17 = 15240\n",
      "18 = 15720\n",
      "19 = 2880\n",
      "20 = 480\n",
      "21 = 240\n",
      "22 = 360\n",
      "23 = 120\n",
      "24 = 120\n",
      "25 = 0\n",
      "26 = 0\n",
      "27 = 0\n",
      "28 = 0\n",
      "29 = 120\n"
     ]
    }
   ],
   "source": [
    "import os\n",
    "path='H:\\/Final year project\\/Suvrrajit\\/dataset\\/crop/'\n",
    "path1='H:\\/Final year project\\/Suvrrajit\\/FinalYearProject!\\/Male data\\/renameM/'\n",
    "dirs = os.listdir(path1)\n",
    "\n",
    "ar=[]\n",
    "for i in range(0,100,1):\n",
    "    ar.append(0)\n",
    "for items in dirs:\n",
    "    items = items.split('_')\n",
    "    x=int(items[2])\n",
    "    ar[x]=ar[x]+1\n",
    "\n",
    "for i in range(0,30,1):\n",
    "    print(str(i)+\" = \"+str(ar[i]*120))"
   ]
  },
  {
   "cell_type": "code",
   "execution_count": 31,
   "metadata": {},
   "outputs": [
    {
     "name": "stdout",
     "output_type": "stream",
     "text": [
      "15\n"
     ]
    }
   ],
   "source": []
  },
  {
   "cell_type": "code",
   "execution_count": null,
   "metadata": {},
   "outputs": [],
   "source": []
  }
 ],
 "metadata": {
  "kernelspec": {
   "display_name": "Python 3",
   "language": "python",
   "name": "python3"
  },
  "language_info": {
   "codemirror_mode": {
    "name": "ipython",
    "version": 3
   },
   "file_extension": ".py",
   "mimetype": "text/x-python",
   "name": "python",
   "nbconvert_exporter": "python",
   "pygments_lexer": "ipython3",
   "version": "3.7.1"
  }
 },
 "nbformat": 4,
 "nbformat_minor": 2
}
