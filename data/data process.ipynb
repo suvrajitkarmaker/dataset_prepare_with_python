{
 "cells": [
  {
   "cell_type": "code",
   "execution_count": 2,
   "metadata": {},
   "outputs": [],
   "source": [
    "from PIL import Image\n",
    "import os, sys\n",
    "import csv\n",
    "import numpy as np\n",
    "import cv2\n",
    "import PIL.ImageOps"
   ]
  },
  {
   "cell_type": "code",
   "execution_count": 3,
   "metadata": {},
   "outputs": [],
   "source": [
    "def gray():\n",
    "    for item in dirs:\n",
    "        if os.path.isfile(path+item):\n",
    "            image = cv2.imread(path+item)\n",
    "            f, e = os.path.splitext(path+item)\n",
    "            img = cv2.cvtColor(image , cv2.COLOR_RGB2GRAY )\n",
    "            cv2.imwrite(f + ' gray.png',img)\n",
    "            os.remove(path+item) \n",
    "    print('G', end='')\n",
    "            \n",
    "def invert():\n",
    "    for item in dirs:\n",
    "        if os.path.isfile(path+item):\n",
    "            with Image.open(path+item) as image:\n",
    "                f, e = os.path.splitext(path+item)\n",
    "                inverted_image = PIL.ImageOps.invert(image)\n",
    "                inverted_image.save(f + 'invert.png', 'png', quality=100)\n",
    "            os.remove(path+item) \n",
    "        print('I', end='')\n",
    "            \n",
    "def resized():\n",
    "    for item in dirs:\n",
    "        if os.path.isfile(path+item):\n",
    "            with Image.open(path+item) as im:\n",
    "                f, e = os.path.splitext(path+item)\n",
    "                imResize = im.resize((28,28), Image.ANTIALIAS)\n",
    "                imResize.save(f + ' resized.png', 'png', quality=90)\n",
    "            os.remove(path+item)\n",
    "    print('R', end='')\n",
    "            \n",
    "def CSV(loc):\n",
    "    for item in dirs:\n",
    "        if os.path.isfile(path+item):\n",
    "            im = Image.open(path+item)\n",
    "            pixels = list(im.getdata())\n",
    "            width, height = im.size \n",
    "            pixels = np.asarray(im)\n",
    "            m = pixels.reshape(1,28*28)\n",
    "            m = np.append(m,i-1)\n",
    "            m = np.array([m])\n",
    "            writer = csv.writer(open(loc, 'a'))\n",
    "            writer.writerows(m)\n",
    "    print('C', end='')"
   ]
  },
  {
   "cell_type": "code",
   "execution_count": 3,
   "metadata": {},
   "outputs": [
    {
     "name": "stdout",
     "output_type": "stream",
     "text": [
      "G"
     ]
    }
   ],
   "source": [
    "path = '../croped/resized/process/null/'\n",
    "dirs = os.listdir(path)\n",
    "# def gray():\n",
    "#     for item in dirs:\n",
    "#         if os.path.isfile(path+item):\n",
    "#             image = cv2.imread(path+item)\n",
    "#             f, e = os.path.splitext(path+item)\n",
    "#             img = cv2.cvtColor(image , cv2.COLOR_RGB2GRAY )\n",
    "#             cv2.imwrite(f + ' gray.png',img)\n",
    "# #             os.remove(path+item) \n",
    "#     print('G', end='')\n",
    "# gray()"
   ]
  },
  {
   "cell_type": "code",
   "execution_count": 11,
   "metadata": {},
   "outputs": [
    {
     "name": "stdout",
     "output_type": "stream",
     "text": [
      "CCC"
     ]
    }
   ],
   "source": [
    "for i in range(0,3):\n",
    "    path = \"H:\\/Final year project\\/male\\/male/\" + str(i) + \"/\"\n",
    "    dirs = os.listdir(path)\n",
    "    \n",
    "#     gray()\n",
    "#     invert()\n",
    "#     resized()\n",
    "    loc='H:\\/Final year project\\/innovators.csv'\n",
    "    for item in dirs:\n",
    "        if os.path.isfile(path+item):\n",
    "            im = Image.open(path+item)\n",
    "            pixels = list(im.getdata())\n",
    "            width, height = im.size \n",
    "            pixels = np.asarray(im)\n",
    "            m = pixels.reshape(-1,28,28,1)\n",
    "            m = np.append(m,i-1)\n",
    "            m = np.array([m])\n",
    "            writer = csv.writer(open(loc, 'a'))\n",
    "            writer.writerows(m)\n",
    "    print('C', end='')"
   ]
  },
  {
   "cell_type": "code",
   "execution_count": 1,
   "metadata": {},
   "outputs": [],
   "source": [
    "#experiment\n",
    "import csv\n",
    "with open('innovators.csv', 'w', newline='') as file:\n",
    "    writer = csv.writer(file)\n",
    "    writer.writerow([\"SN\", \"Name\", \"Contribution\"])\n",
    "    writer.writerow([1, \"Linus Torvalds\", \"Linux Kernel\"])\n",
    "    writer.writerow([2, \"Tim Berners-Lee\", \"World Wide Web\"])\n",
    "    writer.writerow([3, \"Guido van Rossum\", \"Python Programming\"])"
   ]
  },
  {
   "cell_type": "code",
   "execution_count": 15,
   "metadata": {},
   "outputs": [
    {
     "name": "stdout",
     "output_type": "stream",
     "text": [
      "1 2 3 4 5 6 7 8 9 10 11 12 13 14 15 16 17 18 19 20 21 22 23 24 25 26 27 28 29 30 31 32 33 34 35 36 37 38 39 40 41 42 43 44 45 46 47 48 49 50 "
     ]
    }
   ],
   "source": [
    "for i in range(1,51):\n",
    "    path = \"C:/Users/shaha/PycharmProjects/numISI/char/iso/\" + str(i) + \"/\"\n",
    "    dirs = os.listdir( path )\n",
    "\n",
    "    def CSV():\n",
    "        for item in dirs:\n",
    "            if os.path.isfile(path+item):\n",
    "                im = Image.open(path+item)\n",
    "                pixels = list(im.getdata())\n",
    "                width, height = im.size \n",
    "                pixels = np.asarray(im)\n",
    "                m = pixels.reshape(1,28*28)\n",
    "                m = np.append(m,i-1)\n",
    "                m = np.array([m])\n",
    "                writer = csv.writer(open('isoletedChar.csv', 'a'))\n",
    "                writer.writerows(m)\n",
    "        print(i, end=' ')\n",
    "\n",
    "\n",
    "    CSV()"
   ]
  },
  {
   "cell_type": "code",
   "execution_count": 19,
   "metadata": {},
   "outputs": [
    {
     "name": "stdout",
     "output_type": "stream",
     "text": [
      "Done 0\n"
     ]
    }
   ],
   "source": [
    "# from PIL import Image\n",
    "# import PIL.ImageOps \n",
    "# import os\n",
    "# for i in range(50):\n",
    "#     path = \"C:/Users/shaha/PycharmProjects/numISI/char/val/\" + str(i) + \"/\"\n",
    "#     dirs = os.listdir( path )\n",
    "\n",
    "#     def invert():\n",
    "#         for item in dirs:\n",
    "#             if os.path.isfile(path+item):\n",
    "# #                 image = Image.open(path+item)\n",
    "#                 with Image.open(path+item) as image:\n",
    "#                     f, e = os.path.splitext(path+item)\n",
    "#                     inverted_image = PIL.ImageOps.invert(image)\n",
    "#                     inverted_image.save(f + 'invert.png', 'png', quality=100)\n",
    "#                 os.remove(path+item)\n",
    "#         print('Done', i)\n",
    "\n",
    "\n",
    "#     invert()"
   ]
  },
  {
   "cell_type": "code",
   "execution_count": 23,
   "metadata": {
    "collapsed": true
   },
   "outputs": [],
   "source": [
    "# from PIL import Image\n",
    "# import PIL.ImageOps \n",
    "# import os\n",
    "# for i in range(50):\n",
    "#     path = \"C:/Users/shaha/PycharmProjects/numISI/char/val/\" + str(i) + \"/\"\n",
    "#     dirs = os.listdir( path )\n",
    "\n",
    "#     def resized():\n",
    "#         for item in dirs:\n",
    "#             if os.path.isfile(path+item):\n",
    "#                 with Image.open(path+item) as im:\n",
    "#                     f, e = os.path.splitext(path+item)\n",
    "#                     imResize = im.resize((28,28), Image.ANTIALIAS)\n",
    "#                     imResize.save(f + ' resized.png', 'png', quality=90)\n",
    "#                 os.remove(path+item)\n",
    "                \n",
    "#     print('Done', i)\n",
    "\n",
    "#     resized()"
   ]
  },
  {
   "cell_type": "code",
   "execution_count": 22,
   "metadata": {
    "collapsed": true
   },
   "outputs": [],
   "source": [
    "# import cv2\n",
    "\n",
    "# from PIL import Image\n",
    "# import PIL.ImageOps \n",
    "# import os\n",
    "# for i in range(50):\n",
    "#     path = \"C:/Users/shaha/PycharmProjects/numISI/char/val/\" + str(i) + \"/\"\n",
    "#     dirs = os.listdir( path )\n",
    "\n",
    "#     def gray():\n",
    "#         for item in dirs:\n",
    "#             if os.path.isfile(path+item):\n",
    "#                 image = cv2.imread(path+item)\n",
    "#                 f, e = os.path.splitext(path+item)\n",
    "#                 img = cv2.cvtColor(image , cv2.COLOR_RGB2GRAY )\n",
    "#                 cv2.imwrite(f + ' gray.png',img)\n",
    "#                 os.remove(path+item)\n",
    "#         print(i, end=' ')\n",
    "\n",
    "\n",
    "#     gray()"
   ]
  },
  {
   "cell_type": "code",
   "execution_count": null,
   "metadata": {
    "collapsed": true
   },
   "outputs": [],
   "source": [
    "end"
   ]
  },
  {
   "cell_type": "code",
   "execution_count": null,
   "metadata": {
    "collapsed": true
   },
   "outputs": [],
   "source": [
    "from PIL import Image\n",
    "import PIL.ImageOps \n",
    "import os\n",
    "i = 0\n",
    "path = \"numISI/\" + str(i) + \"/\"\n",
    "dirs = os.listdir( path )\n",
    "\n",
    "for item in dirs:\n",
    "    if os.path.isfile(path+item):\n",
    "        im = Image.open(path+item)\n",
    "        f, e = os.path.splitext(path+item)\n",
    "        imResize = im.resize((28,28), Image.ANTIALIAS)\n",
    "        imResize.save(f + 'resized.png', 'png', quality=90)\n",
    "        os.remove(path+item)\n",
    "    "
   ]
  },
  {
   "cell_type": "code",
   "execution_count": null,
   "metadata": {
    "collapsed": true
   },
   "outputs": [],
   "source": [
    "i = 'kaagle/Capture.PNG'\n",
    "import os\n",
    "import numpy as np\n",
    "from PIL import Image\n",
    "import PIL.ImageOps\n",
    "import matplotlib.pyplot as plt\n",
    "im = Image.open(i)\n",
    "imResize = im.resize((28,28), Image.ANTIALIAS).convert('L')\n",
    "image = PIL.ImageOps.invert(imResize)\n",
    "pixels = list(im.getdata())\n",
    "width, height = im.size \n",
    "pixels = np.asarray(im)\n",
    "\n",
    "plt.imshow(pixels)\n",
    "plt.show()"
   ]
  },
  {
   "cell_type": "code",
   "execution_count": null,
   "metadata": {
    "collapsed": true
   },
   "outputs": [],
   "source": [
    "from PIL import Image\n",
    "import PIL.ImageOps \n",
    "import os"
   ]
  },
  {
   "cell_type": "code",
   "execution_count": null,
   "metadata": {
    "collapsed": true
   },
   "outputs": [],
   "source": [
    "im = Image.open('cn.png')\n",
    "image = PIL.ImageOps.invert(im)"
   ]
  },
  {
   "cell_type": "code",
   "execution_count": null,
   "metadata": {
    "collapsed": true
   },
   "outputs": [],
   "source": [
    "im"
   ]
  },
  {
   "cell_type": "code",
   "execution_count": null,
   "metadata": {
    "collapsed": true
   },
   "outputs": [],
   "source": [
    "from PIL import Image\n",
    "import PIL.ImageOps    \n",
    "\n",
    "image = Image.open('cn.png')\n",
    "image.mode\n",
    "# inverted_image = PIL.ImageOps.invert(image)\n",
    "\n",
    "# inverted_image.save('your_image_inv.png')"
   ]
  },
  {
   "cell_type": "code",
   "execution_count": null,
   "metadata": {
    "collapsed": true
   },
   "outputs": [],
   "source": [
    "i = 'kaagle/Capture.PNG'\n",
    "import os\n",
    "import numpy as np\n",
    "from PIL import Image\n",
    "import PIL.ImageOps\n",
    "import matplotlib.pyplot as plt\n",
    "im = Image.open(i)\n",
    "imResize = im.resize((28,28), Image.ANTIALIAS).convert('L')\n",
    "image = PIL.ImageOps.invert(imResize)\n",
    "pixels = np.asarray(image)\n",
    "pixels = pixels.reshape(-1,28,28,1)"
   ]
  },
  {
   "cell_type": "code",
   "execution_count": 8,
   "metadata": {
    "collapsed": true
   },
   "outputs": [],
   "source": [
    "def gray():\n",
    "    for item in dirs:\n",
    "        if os.path.isfile(path+item):\n",
    "            image = cv2.imread(path+item)\n",
    "            f, e = os.path.splitext(path+item)\n",
    "            im = cv2.cvtColor(image , cv2.COLOR_RGB2GRAY )\n",
    "#             im = PIL.ImageOps.invert(im)\n",
    "            im = im.resize((28,28), Image.ANTIALIAS)\n",
    "            pixels = list(im.getdata())\n",
    "            width, height = im.size \n",
    "            pixels = np.asarray(im)\n",
    "            m = pixels.reshape(1,28*28)\n",
    "            m = np.append(m,i-1)\n",
    "            m = np.array([m])\n",
    "            writer = csv.writer(open(loc, 'a'))\n",
    "            writer.writerows(m)\n",
    "\n",
    "            \n",
    "# def invert():\n",
    "#     for item in dirs:\n",
    "#         if os.path.isfile(path+item):\n",
    "#             with Image.open(path+item) as image:\n",
    "#                 f, e = os.path.splitext(path+item)\n",
    "#                 inverted_image = PIL.ImageOps.invert(image)\n",
    "#                 inverted_image.save(f + 'invert.png', 'png', quality=100)\n",
    "#             os.remove(path+item) \n",
    "            \n",
    "# def resized():\n",
    "#     for item in dirs:\n",
    "#         if os.path.isfile(path+item):\n",
    "#             with Image.open(path+item) as im:\n",
    "#                 f, e = os.path.splitext(path+item)\n",
    "#                 imResize = im.resize((28,28), Image.ANTIALIAS)\n",
    "#                 imResize.save(f + ' resized.png', 'png', quality=90)\n",
    "#             os.remove(path+item)\n",
    "            \n",
    "# def CSV(loc):\n",
    "#     for item in dirs:\n",
    "#         if os.path.isfile(path+item):\n",
    "#             im = Image.open(path+item)\n",
    "#             pixels = list(im.getdata())\n",
    "#             width, height = im.size \n",
    "#             pixels = np.asarray(im)\n",
    "#             m = pixels.reshape(1,28*28)\n",
    "#             m = np.append(m,i-1)\n",
    "#             m = np.array([m])\n",
    "#             writer = csv.writer(open(loc, 'a'))\n",
    "#             writer.writerows(m)"
   ]
  },
  {
   "cell_type": "code",
   "execution_count": 9,
   "metadata": {},
   "outputs": [
    {
     "ename": "TypeError",
     "evalue": "'tuple' object cannot be interpreted as an integer",
     "output_type": "error",
     "traceback": [
      "\u001b[1;31m---------------------------------------------------------------------------\u001b[0m",
      "\u001b[1;31mTypeError\u001b[0m                                 Traceback (most recent call last)",
      "\u001b[1;32m<ipython-input-9-c14a92694508>\u001b[0m in \u001b[0;36m<module>\u001b[1;34m()\u001b[0m\n\u001b[1;32m----> 1\u001b[1;33m \u001b[0mgray\u001b[0m\u001b[1;33m(\u001b[0m\u001b[1;33m)\u001b[0m\u001b[1;33m\u001b[0m\u001b[0m\n\u001b[0m",
      "\u001b[1;32m<ipython-input-8-00ad835bb417>\u001b[0m in \u001b[0;36mgray\u001b[1;34m()\u001b[0m\n\u001b[0;32m      6\u001b[0m             \u001b[0mim\u001b[0m \u001b[1;33m=\u001b[0m \u001b[0mcv2\u001b[0m\u001b[1;33m.\u001b[0m\u001b[0mcvtColor\u001b[0m\u001b[1;33m(\u001b[0m\u001b[0mimage\u001b[0m \u001b[1;33m,\u001b[0m \u001b[0mcv2\u001b[0m\u001b[1;33m.\u001b[0m\u001b[0mCOLOR_RGB2GRAY\u001b[0m \u001b[1;33m)\u001b[0m\u001b[1;33m\u001b[0m\u001b[0m\n\u001b[0;32m      7\u001b[0m \u001b[1;31m#             im = PIL.ImageOps.invert(im)\u001b[0m\u001b[1;33m\u001b[0m\u001b[1;33m\u001b[0m\u001b[0m\n\u001b[1;32m----> 8\u001b[1;33m             \u001b[0mim\u001b[0m \u001b[1;33m=\u001b[0m \u001b[0mim\u001b[0m\u001b[1;33m.\u001b[0m\u001b[0mresize\u001b[0m\u001b[1;33m(\u001b[0m\u001b[1;33m(\u001b[0m\u001b[1;36m28\u001b[0m\u001b[1;33m,\u001b[0m\u001b[1;36m28\u001b[0m\u001b[1;33m)\u001b[0m\u001b[1;33m,\u001b[0m \u001b[0mImage\u001b[0m\u001b[1;33m.\u001b[0m\u001b[0mANTIALIAS\u001b[0m\u001b[1;33m)\u001b[0m\u001b[1;33m\u001b[0m\u001b[0m\n\u001b[0m\u001b[0;32m      9\u001b[0m             \u001b[0mpixels\u001b[0m \u001b[1;33m=\u001b[0m \u001b[0mlist\u001b[0m\u001b[1;33m(\u001b[0m\u001b[0mim\u001b[0m\u001b[1;33m.\u001b[0m\u001b[0mgetdata\u001b[0m\u001b[1;33m(\u001b[0m\u001b[1;33m)\u001b[0m\u001b[1;33m)\u001b[0m\u001b[1;33m\u001b[0m\u001b[0m\n\u001b[0;32m     10\u001b[0m             \u001b[0mwidth\u001b[0m\u001b[1;33m,\u001b[0m \u001b[0mheight\u001b[0m \u001b[1;33m=\u001b[0m \u001b[0mim\u001b[0m\u001b[1;33m.\u001b[0m\u001b[0msize\u001b[0m\u001b[1;33m\u001b[0m\u001b[0m\n",
      "\u001b[1;31mTypeError\u001b[0m: 'tuple' object cannot be interpreted as an integer"
     ]
    }
   ],
   "source": [
    "gray()"
   ]
  },
  {
   "cell_type": "code",
   "execution_count": null,
   "metadata": {
    "collapsed": true
   },
   "outputs": [],
   "source": []
  },
  {
   "cell_type": "code",
   "execution_count": null,
   "metadata": {
    "collapsed": true
   },
   "outputs": [],
   "source": []
  },
  {
   "cell_type": "code",
   "execution_count": null,
   "metadata": {
    "collapsed": true
   },
   "outputs": [],
   "source": [
    "final_transparent_image.mode"
   ]
  }
 ],
 "metadata": {
  "kernelspec": {
   "display_name": "Python 3",
   "language": "python",
   "name": "python3"
  },
  "language_info": {
   "codemirror_mode": {
    "name": "ipython",
    "version": 3
   },
   "file_extension": ".py",
   "mimetype": "text/x-python",
   "name": "python",
   "nbconvert_exporter": "python",
   "pygments_lexer": "ipython3",
   "version": "3.7.1"
  }
 },
 "nbformat": 4,
 "nbformat_minor": 2
}
