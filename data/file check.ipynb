{
 "cells": [
  {
   "cell_type": "code",
   "execution_count": 14,
   "metadata": {
    "collapsed": true
   },
   "outputs": [],
   "source": [
    "import cv2\n",
    "import numpy as np\n",
    "import os\n",
    "import shutil"
   ]
  },
  {
   "cell_type": "code",
   "execution_count": 15,
   "metadata": {
    "collapsed": true
   },
   "outputs": [],
   "source": [
    "def transform(pos):\n",
    "# This function is used to find the corners of the object and the dimensions of the object\n",
    "    pts=[]\n",
    "    n=len(pos)\n",
    "    for i in range(n):\n",
    "        pts.append(list(pos[i][0]))\n",
    "       \n",
    "    sums={}\n",
    "    diffs={}\n",
    "    tl=tr=bl=br=0\n",
    "    for i in pts:\n",
    "        x=i[0]\n",
    "        y=i[1]\n",
    "        sum=x+y\n",
    "        diff=y-x\n",
    "        sums[sum]=i\n",
    "        diffs[diff]=i\n",
    "    sums=sorted(sums.items())\n",
    "    diffs=sorted(diffs.items())\n",
    "    n=len(sums)\n",
    "    rect=[sums[0][1],diffs[0][1],diffs[n-1][1],sums[n-1][1]]\n",
    "    #      top-left   top-right   bottom-left   bottom-right\n",
    "   \n",
    "    h1=np.sqrt((rect[0][0]-rect[2][0])**2 + (rect[0][1]-rect[2][1])**2)     #height of left side\n",
    "    h2=np.sqrt((rect[1][0]-rect[3][0])**2 + (rect[1][1]-rect[3][1])**2)     #height of right side\n",
    "    h=max(h1,h2)\n",
    "   \n",
    "    w1=np.sqrt((rect[0][0]-rect[1][0])**2 + (rect[0][1]-rect[1][1])**2)     #width of upper side\n",
    "    w2=np.sqrt((rect[2][0]-rect[3][0])**2 + (rect[2][1]-rect[3][1])**2)     #width of lower side\n",
    "    w=max(w1,w2)\n",
    "   \n",
    "    return int(w),int(h),rect"
   ]
  },
  {
   "cell_type": "code",
   "execution_count": 16,
   "metadata": {},
   "outputs": [],
   "source": [
    "import os\n",
    "import shutil\n",
    "path =  '../female/'\n",
    "dirs = os.listdir(path)"
   ]
  },
  {
   "cell_type": "code",
   "execution_count": 28,
   "metadata": {},
   "outputs": [
    {
     "name": "stdout",
     "output_type": "stream",
     "text": [
      "Done\n"
     ]
    },
    {
     "data": {
      "text/plain": [
       "(54, 108, 286, 127)"
      ]
     },
     "execution_count": 28,
     "metadata": {},
     "output_type": "execute_result"
    }
   ],
   "source": [
    "for item in dirs:\n",
    "#     print(item)\n",
    "    try:\n",
    "        if os.path.isfile(path+item):\n",
    "            img=cv2.imread(path+item)\n",
    "    #         f, e = os.path.splitext(path+item)\n",
    "\n",
    "\n",
    "            dim=(1654, 2340)\n",
    "#                     dim=(2200, 3400)\n",
    "\n",
    "\n",
    "            img=cv2.resize(img, dim, interpolation = cv2.INTER_AREA)\n",
    "            edge=cv2.Canny(img,10,200)\n",
    "            _,contours,_=cv2.findContours(edge.copy(),1,1)\n",
    "            n=len(contours)\n",
    "            max_area=0\n",
    "            pos=0\n",
    "            for i in contours:\n",
    "                area=cv2.contourArea(i)\n",
    "                if area>max_area:\n",
    "                    max_area=area\n",
    "                    pos=i\n",
    "            peri=cv2.arcLength(pos,True)\n",
    "            approx=cv2.approxPolyDP(pos,0.02*peri,True)\n",
    "\n",
    "            size=img.shape\n",
    "            w,h,arr=transform(approx)\n",
    "\n",
    "            pts2=np.float32([[0,0],[w,0],[0,h],[w,h]])\n",
    "            pts1=np.float32(arr)\n",
    "            M=cv2.getPerspectiveTransform(pts1,pts2)\n",
    "            dst=cv2.warpPerspective(img,M,(w,h))\n",
    "            image=cv2.cvtColor(dst,cv2.COLOR_BGR2GRAY)\n",
    "            image = cv2.resize(image,(w,h),interpolation = cv2.INTER_AREA)\n",
    "#             cv2.imshow('OUTPUT',image)\n",
    "            cv2.imwrite('../cropF/'+item,image)\n",
    "            cv2.waitKey(0)\n",
    "            cv2.destroyAllWindows()\n",
    "    except:\n",
    "        print(item, 'is error'+'='*30)\n",
    "        shutil.move(path+item, \"../cropF/err/\"+item)\n",
    "print('Done')\n",
    "54,108,286,127"
   ]
  },
  {
   "cell_type": "code",
   "execution_count": 20,
   "metadata": {
    "collapsed": true
   },
   "outputs": [],
   "source": [
    "img=cv2.imread('female/1_Dha_21_3_00014.jpg')\n",
    "#         f, e = os.path.splitext(path+item)\n",
    "\n",
    "\n",
    "dim=(1654, 2339)\n",
    "\n",
    "\n",
    "img=cv2.resize(img, dim, interpolation = cv2.INTER_AREA)\n",
    "edge=cv2.Canny(img,10,200)\n",
    "_,contours,_=cv2.findContours(edge.copy(),1,1)\n",
    "n=len(contours)\n",
    "max_area=0\n",
    "pos=0\n",
    "for i in contours:\n",
    "    area=cv2.contourArea(i)\n",
    "    if area>max_area:\n",
    "        max_area=area\n",
    "        pos=i\n",
    "peri=cv2.arcLength(pos,True)\n",
    "approx=cv2.approxPolyDP(pos,0.02*peri,True)\n",
    "\n",
    "size=img.shape\n",
    "w,h,arr=transform(approx)\n",
    "\n",
    "pts2=np.float32([[0,0],[w,0],[0,h],[w,h]])\n",
    "pts1=np.float32(arr)\n",
    "M=cv2.getPerspectiveTransform(pts1,pts2)\n",
    "dst=cv2.warpPerspective(img,M,(w,h))\n",
    "image=cv2.cvtColor(dst,cv2.COLOR_BGR2GRAY)\n",
    "image = cv2.resize(image,(w,h),interpolation = cv2.INTER_AREA)\n",
    "cv2.imshow('OUTPUT',image)\n",
    "# cv2.imwrite('croped/'+item,image)\n",
    "cv2.waitKey(0)\n",
    "cv2.destroyAllWindows()"
   ]
  },
  {
   "cell_type": "code",
   "execution_count": 14,
   "metadata": {},
   "outputs": [
    {
     "ename": "SyntaxError",
     "evalue": "invalid syntax (<ipython-input-14-619498459c02>, line 1)",
     "output_type": "error",
     "traceback": [
      "\u001b[1;36m  File \u001b[1;32m\"<ipython-input-14-619498459c02>\"\u001b[1;36m, line \u001b[1;32m1\u001b[0m\n\u001b[1;33m    .\u001b[0m\n\u001b[1;37m    ^\u001b[0m\n\u001b[1;31mSyntaxError\u001b[0m\u001b[1;31m:\u001b[0m invalid syntax\n"
     ]
    }
   ],
   "source": [
    ".\n",
    "def resized():\n",
    "    for item in dirs:\n",
    "        if os.path.isfile(path+item):\n",
    "            with Image.open(path+item) as im:\n",
    "                f, e = os.path.splitext(path+item)\n",
    "                imResize = im.resize((28,28), Image.ANTIALIAS)\n",
    "                imResize.save(f + ' resized.png', 'png', quality=90)\n",
    "            os.remove(path+item)\n",
    "    print('R', end='')"
   ]
  },
  {
   "cell_type": "code",
   "execution_count": 8,
   "metadata": {},
   "outputs": [
    {
     "name": "stdout",
     "output_type": "stream",
     "text": [
      ".ipynb_checkpoints\n",
      "data process cv.ipynb\n",
      "data process.ipynb\n",
      "file check.ipynb\n",
      "m_u (1).jpg\n",
      "m_u (10).jpg\n",
      "m_u (11).jpg\n",
      "m_u (12).jpg\n",
      "m_u (13).jpg\n",
      "m_u (14).jpg\n",
      "m_u (15).jpg\n",
      "m_u (16).jpg\n",
      "m_u (17).jpg\n",
      "m_u (18).jpg\n",
      "m_u (19).jpg\n",
      "m_u (2).jpg\n",
      "m_u (20).jpg\n",
      "m_u (21).jpg\n",
      "m_u (3).jpg\n",
      "m_u (4).jpg\n",
      "m_u (5).jpg\n",
      "m_u (6).jpg\n",
      "m_u (7).jpg\n",
      "m_u (8).jpg\n",
      "m_u (9).jpg\n",
      "output\n",
      "Untitled.ipynb\n"
     ]
    }
   ],
   "source": [
    "for item in dirs:\n",
    "    print(item)"
   ]
  },
  {
   "cell_type": "code",
   "execution_count": 15,
   "metadata": {},
   "outputs": [
    {
     "data": {
      "text/plain": [
       "'femalej/'"
      ]
     },
     "execution_count": 15,
     "metadata": {},
     "output_type": "execute_result"
    }
   ],
   "source": [
    "path"
   ]
  },
  {
   "cell_type": "code",
   "execution_count": 16,
   "metadata": {},
   "outputs": [
    {
     "data": {
      "text/plain": [
       "('femalej/011', '.jpg')"
      ]
     },
     "execution_count": 16,
     "metadata": {},
     "output_type": "execute_result"
    }
   ],
   "source": [
    "os.path.splitext(path+item)"
   ]
  },
  {
   "cell_type": "code",
   "execution_count": 17,
   "metadata": {},
   "outputs": [
    {
     "data": {
      "text/plain": [
       "'011.jpg'"
      ]
     },
     "execution_count": 17,
     "metadata": {},
     "output_type": "execute_result"
    }
   ],
   "source": [
    "item"
   ]
  },
  {
   "cell_type": "code",
   "execution_count": 8,
   "metadata": {},
   "outputs": [
    {
     "ename": "NameError",
     "evalue": "name 'shutil' is not defined",
     "output_type": "error",
     "traceback": [
      "\u001b[1;31m---------------------------------------------------------------------------\u001b[0m",
      "\u001b[1;31mNameError\u001b[0m                                 Traceback (most recent call last)",
      "\u001b[1;32m<ipython-input-8-25c520afb0ce>\u001b[0m in \u001b[0;36m<module>\u001b[1;34m()\u001b[0m\n\u001b[1;32m----> 1\u001b[1;33m \u001b[0mshutil\u001b[0m\u001b[1;33m.\u001b[0m\u001b[0mmove\u001b[0m\u001b[1;33m(\u001b[0m\u001b[1;34m\"path/to/current/file.foo\"\u001b[0m\u001b[1;33m,\u001b[0m \u001b[1;34m\"path/to/new/destination/for/file.foo\"\u001b[0m\u001b[1;33m)\u001b[0m\u001b[1;33m\u001b[0m\u001b[0m\n\u001b[0m",
      "\u001b[1;31mNameError\u001b[0m: name 'shutil' is not defined"
     ]
    }
   ],
   "source": [
    "shutil.move(\"path/to/current/file.foo\", \"path/to/new/destination/for/file.foo\")"
   ]
  },
  {
   "cell_type": "code",
   "execution_count": 30,
   "metadata": {},
   "outputs": [],
   "source": [
    "from PIL import Image\n",
    "path =  '../cropF/'\n",
    "a = []\n",
    "dirs = os.listdir(path)\n",
    "for item in dirs:\n",
    "    with Image.open(path+item) as img:\n",
    "        a.append([img.size[0],img.size[1]])"
   ]
  },
  {
   "cell_type": "code",
   "execution_count": 31,
   "metadata": {
    "collapsed": true
   },
   "outputs": [],
   "source": [
    "import numpy as np"
   ]
  },
  {
   "cell_type": "code",
   "execution_count": 32,
   "metadata": {
    "collapsed": true
   },
   "outputs": [],
   "source": [
    "b = np.array(a)"
   ]
  },
  {
   "cell_type": "code",
   "execution_count": 33,
   "metadata": {
    "collapsed": true
   },
   "outputs": [],
   "source": [
    "c = []\n",
    "for i in range(len(b)):\n",
    "    c.append(b[i][1])"
   ]
  },
  {
   "cell_type": "code",
   "execution_count": 34,
   "metadata": {},
   "outputs": [
    {
     "name": "stdout",
     "output_type": "stream",
     "text": [
      "0 [1534, 1687]\n",
      "1 [1534, 1690]\n",
      "2 [1536, 1685]\n",
      "3 [1534, 1690]\n",
      "4 [1535, 1688]\n",
      "5 [1534, 1688]\n",
      "6 [1533, 1688]\n",
      "7 [1536, 1685]\n",
      "8 [1536, 1684]\n",
      "9 [1534, 1689]\n",
      "10 [1535, 1684]\n",
      "11 [1535, 1688]\n",
      "12 [1536, 1682]\n",
      "13 [1534, 1687]\n",
      "14 [1534, 1688]\n",
      "15 [1535, 1689]\n",
      "16 [1523, 1674]\n",
      "17 [1521, 1677]\n",
      "18 [1535, 1688]\n",
      "19 [1534, 1687]\n",
      "20 [1536, 1685]\n",
      "21 [1536, 1685]\n",
      "22 [1535, 1685]\n",
      "23 [1536, 1683]\n",
      "24 [1534, 1688]\n",
      "25 [1525, 1675]\n",
      "26 [1534, 1688]\n",
      "27 [1535, 1687]\n",
      "28 [1535, 1688]\n",
      "29 [1522, 1676]\n",
      "30 [1536, 1685]\n",
      "31 [1533, 1688]\n",
      "32 [1535, 1688]\n",
      "33 [1535, 1688]\n",
      "34 [1533, 1687]\n",
      "35 [1535, 1687]\n",
      "36 [1534, 1689]\n",
      "37 [1535, 1687]\n",
      "38 [1535, 1688]\n",
      "39 [1534, 1686]\n",
      "40 [1535, 1688]\n",
      "41 [1536, 1695]\n",
      "42 [1536, 1685]\n",
      "43 [1535, 1687]\n",
      "44 [1535, 1689]\n",
      "45 [1534, 1687]\n",
      "46 [1535, 1683]\n",
      "47 [1534, 1688]\n",
      "48 [1534, 1688]\n",
      "49 [1534, 1687]\n",
      "50 [1534, 1686]\n",
      "51 [1535, 1687]\n",
      "52 [1534, 1688]\n",
      "53 [1536, 1685]\n",
      "54 [1523, 1676]\n",
      "55 [1534, 1687]\n",
      "56 [1535, 1689]\n",
      "57 [1533, 1687]\n",
      "58 [1535, 1688]\n",
      "59 [1535, 1687]\n",
      "60 [1534, 1688]\n",
      "61 [1534, 1688]\n",
      "62 [1534, 1688]\n",
      "63 [1535, 1686]\n",
      "64 [1534, 1687]\n",
      "65 [1534, 1688]\n",
      "66 [1534, 1687]\n",
      "67 [1535, 1687]\n",
      "68 [1534, 1688]\n",
      "69 [1534, 1694]\n",
      "70 [1536, 1685]\n",
      "71 [1536, 1685]\n",
      "72 [1535, 1687]\n",
      "73 [1535, 1688]\n",
      "74 [1534, 1688]\n",
      "75 [1533, 1688]\n",
      "76 [1534, 1688]\n",
      "77 [1534, 1690]\n",
      "78 [1534, 1687]\n",
      "79 [1534, 1687]\n",
      "80 [1535, 1683]\n",
      "81 [1533, 1687]\n",
      "82 [1534, 1689]\n",
      "83 [1535, 1688]\n",
      "84 [1535, 1688]\n",
      "85 [1535, 1687]\n"
     ]
    }
   ],
   "source": [
    "for i in range(len(a)):\n",
    "    print(i,a[i])"
   ]
  },
  {
   "cell_type": "code",
   "execution_count": 61,
   "metadata": {},
   "outputs": [
    {
     "data": {
      "text/plain": [
       "[2072, 2464]"
      ]
     },
     "execution_count": 61,
     "metadata": {},
     "output_type": "execute_result"
    }
   ],
   "source": [
    "a.pop(17)"
   ]
  },
  {
   "cell_type": "code",
   "execution_count": 116,
   "metadata": {
    "collapsed": true
   },
   "outputs": [],
   "source": [
    "c = np.array(c)"
   ]
  },
  {
   "cell_type": "code",
   "execution_count": 117,
   "metadata": {},
   "outputs": [
    {
     "data": {
      "text/plain": [
       "1685.7108433734941"
      ]
     },
     "execution_count": 117,
     "metadata": {},
     "output_type": "execute_result"
    }
   ],
   "source": [
    "c.mean()"
   ]
  },
  {
   "cell_type": "code",
   "execution_count": 118,
   "metadata": {},
   "outputs": [
    {
     "data": {
      "text/plain": [
       "(1534, 1686)"
      ]
     },
     "execution_count": 118,
     "metadata": {},
     "output_type": "execute_result"
    }
   ],
   "source": [
    "1534,1686"
   ]
  },
  {
   "cell_type": "code",
   "execution_count": 15,
   "metadata": {
    "collapsed": true
   },
   "outputs": [],
   "source": [
    "path =  'CcropD/'\n",
    "dirs = os.listdir(path)\n",
    "from PIL import Image\n",
    "def resized():\n",
    "    for item in dirs:\n",
    "        if os.path.isfile(path+item):\n",
    "            with Image.open(path+item) as im:\n",
    "                imResize = im.resize((1534,1686), Image.ANTIALIAS)\n",
    "                imResize.save('CcropD/err/'+ item, quality=100)"
   ]
  },
  {
   "cell_type": "code",
   "execution_count": 16,
   "metadata": {
    "collapsed": true
   },
   "outputs": [],
   "source": [
    "resized()"
   ]
  },
  {
   "cell_type": "code",
   "execution_count": 127,
   "metadata": {
    "collapsed": true
   },
   "outputs": [],
   "source": [
    "f, e = os.path.splitext(path+item)"
   ]
  },
  {
   "cell_type": "code",
   "execution_count": 128,
   "metadata": {},
   "outputs": [
    {
     "data": {
      "text/plain": [
       "'croped/1_Tha_22_3_00035'"
      ]
     },
     "execution_count": 128,
     "metadata": {},
     "output_type": "execute_result"
    }
   ],
   "source": [
    "f"
   ]
  },
  {
   "cell_type": "code",
   "execution_count": 130,
   "metadata": {},
   "outputs": [
    {
     "data": {
      "text/plain": [
       "True"
      ]
     },
     "execution_count": 130,
     "metadata": {},
     "output_type": "execute_result"
    }
   ],
   "source": [
    "os.path.isfile(path+item)"
   ]
  },
  {
   "cell_type": "code",
   "execution_count": null,
   "metadata": {
    "collapsed": true
   },
   "outputs": [],
   "source": []
  }
 ],
 "metadata": {
  "kernelspec": {
   "display_name": "Python 3",
   "language": "python",
   "name": "python3"
  },
  "language_info": {
   "codemirror_mode": {
    "name": "ipython",
    "version": 3
   },
   "file_extension": ".py",
   "mimetype": "text/x-python",
   "name": "python",
   "nbconvert_exporter": "python",
   "pygments_lexer": "ipython3",
   "version": "3.7.1"
  }
 },
 "nbformat": 4,
 "nbformat_minor": 2
}
