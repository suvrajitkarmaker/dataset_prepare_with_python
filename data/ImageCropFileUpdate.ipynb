{
 "cells": [
  {
   "cell_type": "markdown",
   "metadata": {},
   "source": [
    "## File Crop"
   ]
  },
  {
   "cell_type": "code",
   "execution_count": 52,
   "metadata": {},
   "outputs": [
    {
     "data": {
      "text/plain": [
       "1"
      ]
     },
     "execution_count": 52,
     "metadata": {},
     "output_type": "execute_result"
    }
   ],
   "source": [
    "1"
   ]
  },
  {
   "cell_type": "code",
   "execution_count": 53,
   "metadata": {},
   "outputs": [],
   "source": [
    "import cv2\n",
    "import numpy as np\n",
    "import os\n",
    "import shutil"
   ]
  },
  {
   "cell_type": "code",
   "execution_count": 54,
   "metadata": {},
   "outputs": [],
   "source": [
    "def transform(pos):\n",
    "# This function is used to find the corners of the object and the dimensions of the object\n",
    "    pts=[]\n",
    "    n=len(pos)\n",
    "    for i in range(n):\n",
    "        pts.append(list(pos[i][0]))\n",
    "       \n",
    "    sums={}\n",
    "    diffs={}\n",
    "    tl=tr=bl=br=0\n",
    "    for i in pts:\n",
    "        x=i[0]\n",
    "        y=i[1]\n",
    "        sum=x+y\n",
    "        diff=y-x\n",
    "        sums[sum]=i\n",
    "        diffs[diff]=i\n",
    "    sums=sorted(sums.items())\n",
    "    diffs=sorted(diffs.items())\n",
    "    n=len(sums)\n",
    "    rect=[sums[0][1],diffs[0][1],diffs[n-1][1],sums[n-1][1]]\n",
    "    #      top-left   top-right   bottom-left   bottom-right\n",
    "   \n",
    "    h1=np.sqrt((rect[0][0]-rect[2][0])**2 + (rect[0][1]-rect[2][1])**2)     #height of left side\n",
    "    h2=np.sqrt((rect[1][0]-rect[3][0])**2 + (rect[1][1]-rect[3][1])**2)     #height of right side\n",
    "    h=max(h1,h2)\n",
    "   \n",
    "    w1=np.sqrt((rect[0][0]-rect[1][0])**2 + (rect[0][1]-rect[1][1])**2)     #width of upper side\n",
    "    w2=np.sqrt((rect[2][0]-rect[3][0])**2 + (rect[2][1]-rect[3][1])**2)     #width of lower side\n",
    "    w=max(w1,w2)\n",
    "   \n",
    "    return int(w),int(h),rect"
   ]
  },
  {
   "cell_type": "code",
   "execution_count": 55,
   "metadata": {},
   "outputs": [],
   "source": [
    "path =  'H:\\Final year project\\/Suvrrajit\\/dataset\\/test/'\n",
    "dirs = os.listdir(path)\n",
    "# dirs = ['Scanned Document.jpg']"
   ]
  },
  {
   "cell_type": "code",
   "execution_count": 56,
   "metadata": {},
   "outputs": [
    {
     "name": "stdout",
     "output_type": "stream",
     "text": [
      "sdaf\n",
      "1_BAG_13_1_1100.jpgsdaf\n",
      "1_BAR_11_1_767.jpgsdaf\n",
      "1_BAR_12_1_371.jpgsdaf\n",
      "1_BAR_12_1_372.jpgsdaf\n",
      "1_BAR_12_1_379.jpgsdaf\n",
      "1_BAR_12_1_380.jpgsdaf\n",
      "1_BAR_12_1_396.jpgsdaf\n",
      "1_BAR_12_1_397.jpgsdaf\n",
      "1_BAR_12_1_450.jpgsdaf\n",
      "1_BAR_12_1_753.jpgsdaf\n",
      "1_BAR_13_1_370.jpgsdaf\n",
      "1_BAR_13_1_373.jpgsdaf\n",
      "1_BAR_13_1_374.jpgsdaf\n",
      "1_BAR_13_1_375.jpgsdaf\n",
      "1_BAR_13_1_376.jpgsdaf\n",
      "1_BAR_13_1_377.jpgsdaf\n",
      "1_BAR_13_1_378.jpgsdaf\n",
      "1_BAR_13_1_381.jpgsdaf\n",
      "1_BAR_13_1_382.jpgsdaf\n",
      "1_BAR_13_1_385.jpgsdaf\n",
      "1_BAR_13_1_386.jpgsdaf\n",
      "1_BAR_13_1_387.jpgsdaf\n",
      "1_BAR_13_1_388.jpgsdaf\n",
      "1_BAR_13_1_394.jpgsdaf\n",
      "1_BAR_13_1_395.jpgsdaf\n",
      "1_BAR_13_1_398.jpgsdaf\n",
      "1_BAR_13_1_399.jpgsdaf\n",
      "1_BAR_13_1_400.jpgsdaf\n",
      "1_BAR_13_1_401.jpgsdaf\n",
      "1_BAR_13_1_402.jpgsdaf\n",
      "1_BAR_13_1_403.jpgsdaf\n",
      "1_BAR_13_1_404.jpgsdaf\n",
      "1_BAR_13_1_405.jpgsdaf\n",
      "1_BAR_13_1_431.jpgsdaf\n",
      "1_BAR_13_1_433.jpg1_BAR_13_1_433.jpg list index out of range  is error==============================\n",
      "sdaf\n",
      "1_BAR_13_1_436.jpg1_BAR_13_1_436.jpg list index out of range  is error==============================\n",
      "sdaf\n",
      "1_BAR_13_1_437.jpgsdaf\n",
      "1_BAR_13_1_438.jpgsdaf\n",
      "1_BAR_13_1_445.jpgDone\n"
     ]
    }
   ],
   "source": [
    "for item in dirs:\n",
    "    print(\"sdaf\")\n",
    "    print(item,end='')\n",
    "    try:\n",
    "        if os.path.isfile(path+item):\n",
    "            img=cv2.imread(path+item)\n",
    "#             img=cv2.cvtColor(img,cv2.COLOR_BGR2GRAY)\n",
    "            edge=cv2.Canny(img,10,200)\n",
    "            contours,_=cv2.findContours(edge.copy(),1,1)\n",
    "            max_area=0\n",
    "            pos=0\n",
    "            for i in contours:\n",
    "                area=cv2.contourArea(i)\n",
    "                if area>max_area:\n",
    "                    max_area=area\n",
    "                    pos=i\n",
    "            peri=cv2.arcLength(pos,True)\n",
    "            approx=cv2.approxPolyDP(pos,0.02*peri,True)\n",
    "            w,h,arr=transform(approx)\n",
    "            pts2=np.float32([[0,0],[w,0],[0,h],[w,h]])\n",
    "            pts1=np.float32(arr)\n",
    "            M=cv2.getPerspectiveTransform(pts1,pts2)\n",
    "            dst=cv2.warpPerspective(img,M,(w,h))\n",
    "#             cv2.imshow('OUTPUT',dst)\n",
    "            cv2.imwrite('H:\\Final year project\\/Suvrrajit\\/dataset\\/crop/'+item,dst)\n",
    "            cv2.waitKey(0)\n",
    "            cv2.destroyAllWindows()\n",
    "    except Exception as e:\n",
    "        print(item, e, ' is error'+'='*30)\n",
    "        try:\n",
    "            shutil.copy(path+item, \"H:\\Final year project\\/Suvrrajit\\/dataset\\/crop1/\"+item)\n",
    "        except:\n",
    "            pass\n",
    "print('Done')"
   ]
  },
  {
   "cell_type": "code",
   "execution_count": 89,
   "metadata": {},
   "outputs": [],
   "source": [
    "##Sqr crop"
   ]
  },
  {
   "cell_type": "code",
   "execution_count": 3,
   "metadata": {},
   "outputs": [
    {
     "name": "stdout",
     "output_type": "stream",
     "text": [
      "Done\n"
     ]
    }
   ],
   "source": [
    "import cv2\n",
    "import os\n",
    "\n",
    "path =  'H:\\Final year project\\/Suvrrajit\\/FinalYearProject!\\/Male data\\/renameM/'\n",
    "\n",
    "dirs = os.listdir(path)\n",
    "try:\n",
    "    for item in dirs:\n",
    "        image=cv2.imread(path+item)\n",
    "        cropped = image[415:-610, 200:-210]\n",
    "        cv2.imwrite('H:\\/Final year project\\/male\\/sqe/'+item,cropped)\n",
    "except Exception as e:\n",
    "    print(e)\n",
    "    print(path+item)\n",
    "print(\"Done\")"
   ]
  },
  {
   "cell_type": "markdown",
   "metadata": {},
   "source": [
    "## Row Crop"
   ]
  },
  {
   "cell_type": "code",
   "execution_count": 6,
   "metadata": {},
   "outputs": [
    {
     "name": "stdout",
     "output_type": "stream",
     "text": [
      "Done\n"
     ]
    }
   ],
   "source": [
    "import cv2\n",
    "import os\n",
    "\n",
    "path =  'H:\\/Final year project\\/male\\/sqe/'\n",
    "loc = 'H:\\/Final year project\\/male\\/row/'\n",
    "\n",
    "dirs = os.listdir(path)\n",
    "try:\n",
    "    for item in dirs:\n",
    "        #print(path+dirs)\n",
    "        image=cv2.imread(path+item)\n",
    "\n",
    "        for i in range(10):\n",
    "            if(i==0):\n",
    "                cropped = image[0:148, 1:-1]\n",
    "            if(i==1):\n",
    "                cropped = image[253:148+253, 1:-1]\n",
    "            if(i==2):\n",
    "                cropped = image[493:148+493, 1:-1]\n",
    "            if(i==3):\n",
    "                cropped = image[740:148+740, 1:-1]\n",
    "            if(i==4):\n",
    "                cropped = image[985:148+985, 1:-1]\n",
    "            if(i==5):\n",
    "                cropped = image[1235:148+1235, 1:-1]\n",
    "            if(i==6):\n",
    "                cropped = image[1485:148+1485, 1:-1]\n",
    "            if(i==7):\n",
    "                cropped = image[1733:148+1733, 1:-1]\n",
    "            if(i==8):\n",
    "                cropped = image[1981:148+1981, 1:-1]\n",
    "            if(i==9):\n",
    "                cropped = image[2235:148+2235, 1:-1]\n",
    "            #print(loc+str(i)+'/'+item)\n",
    "            cv2.imwrite(loc+str(i)+'/'+item,cropped)    \n",
    "\n",
    "except Exception as e:\n",
    "    print(e)\n",
    "    print(path+item)\n",
    "print(\"Done\")"
   ]
  },
  {
   "cell_type": "markdown",
   "metadata": {},
   "source": [
    "## Column Crop"
   ]
  },
  {
   "cell_type": "code",
   "execution_count": 7,
   "metadata": {},
   "outputs": [
    {
     "name": "stdout",
     "output_type": "stream",
     "text": [
      "Done\n"
     ]
    }
   ],
   "source": [
    "import cv2\n",
    "import os\n",
    "\n",
    "u = 0\n",
    "#for i in range(120):\n",
    "#    os.mkdir('H:\\Final year project\\/Suvrrajit\\/dataset\\/col/'+str(i))\n",
    "for j in range(10):\n",
    "    \n",
    "    path =  'H:\\/Final year project\\/male\\/row/'+str(j)+ '/'\n",
    "    dirs = os.listdir(path)\n",
    "    \n",
    "    for item in dirs:\n",
    "        image = cv2.imread(path+item)\n",
    "        \n",
    "        v = u\n",
    "        row = 148\n",
    "        gap = 15\n",
    "        start = 0\n",
    "        end = start + row\n",
    "    \n",
    "        for i in range(12):\n",
    "            loc = 'H:\\/Final year project\\/male\\/col/'+ str(u)+'/'\n",
    "            u += 1\n",
    "            if(i==0):\n",
    "                cropped = image[0:-1, 0:148]\n",
    "            if(i==1):\n",
    "                cropped = image[0:-1, 170:148+170]\n",
    "            if(i==2):\n",
    "                cropped = image[0:-1, 335:148+335]\n",
    "            if(i==3):\n",
    "                cropped = image[0:-1, 501:148+501]\n",
    "            if(i==4):\n",
    "                cropped = image[0:-1, 665:148+665]\n",
    "            if(i==5):\n",
    "                cropped = image[0:-1, 832:148+832]\n",
    "            if(i==6):\n",
    "                cropped = image[0:-1, 997:148+997]\n",
    "            if(i==7):\n",
    "                cropped = image[0:-1, 1162:148+1162]\n",
    "            if(i==8):\n",
    "                cropped = image[0:-1, 1327:148+1327]\n",
    "            if(i==9):\n",
    "                cropped = image[0:-1, 1493:148+1493]\n",
    "            if(i==10):\n",
    "                cropped = image[0:-1, 1658:148+1658]\n",
    "            if(i==11):\n",
    "                cropped = image[0:-1, 1823:148+1823]\n",
    "            # cv2.imshow(cropped)\n",
    "            start = end + gap\n",
    "            end = start + row\n",
    "            cv2.imwrite(loc+item,cropped) \n",
    "        u = v\n",
    "    u = u + 12\n",
    "\n",
    "cv2.waitKey(0)\n",
    "print(\"Done\")"
   ]
  },
  {
   "cell_type": "markdown",
   "metadata": {},
   "source": [
    "## Apply crop in any location"
   ]
  },
  {
   "cell_type": "code",
   "execution_count": null,
   "metadata": {
    "collapsed": true
   },
   "outputs": [],
   "source": [
    "# load the shapes image, convert it to grayscale, and edge edges in\n",
    "# the image\n",
    "import cv2\n",
    "import os\n",
    "\n",
    "for i in range(119, 119-24,-1):\n",
    "    path =  'chr/'+str(i) + '/'\n",
    "    dirs = os.listdir(path)\n",
    "\n",
    "    for item in dirs:\n",
    "        image=cv2.imread(path+item)\n",
    "        cropped = image[0:-1, 0:-10]\n",
    "        cv2.imwrite(path+item,cropped)   "
   ]
  },
  {
   "cell_type": "code",
   "execution_count": 1,
   "metadata": {},
   "outputs": [],
   "source": [
    "#eraseline"
   ]
  },
  {
   "cell_type": "code",
   "execution_count": 16,
   "metadata": {},
   "outputs": [
    {
     "name": "stdout",
     "output_type": "stream",
     "text": [
      "Done\n"
     ]
    }
   ],
   "source": [
    "import cv2\n",
    "import os\n",
    "\n",
    "path =  'H:\\/Final year project\\/male\\/bw\\/119/'\n",
    "\n",
    "dirs = os.listdir(path)\n",
    "try:\n",
    "    for item in dirs:\n",
    "        image=cv2.imread(path+item)\n",
    "        cropped = image[0:-12, 16:-12]\n",
    "        cv2.imwrite('H:\\Final year project\\/Suvrrajit\\/dataset\\/squreerase\\/check/'+item,cropped)\n",
    "except Exception as e:\n",
    "    print(e)\n",
    "    print(path+item)\n",
    "print(\"Done\")"
   ]
  },
  {
   "cell_type": "code",
   "execution_count": null,
   "metadata": {
    "collapsed": true
   },
   "outputs": [],
   "source": [
    "#vul"
   ]
  },
  {
   "cell_type": "code",
   "execution_count": 17,
   "metadata": {},
   "outputs": [
    {
     "name": "stdout",
     "output_type": "stream",
     "text": [
      "Done\n"
     ]
    }
   ],
   "source": [
    "import cv2\n",
    "import os\n",
    "\n",
    "path =  'C:\\/Users\\/Suvrajit\\/Desktop\\/sfasaf/'\n",
    "dirs1 = os.listdir(path)  \n",
    "s=[]\n",
    "\n",
    "for item in dirs:\n",
    "    s.append(item)\n",
    "\n",
    "path1 =  'C:\\/Users\\/Suvrajit\\/Desktop\\/update/'\n",
    "dirs1 = os.listdir(path1)  \n",
    "i=0\n",
    "for item1 in dirs1:\n",
    "    img = path1 + item1\n",
    "    img = cv2.imread(img)\n",
    "    cv2.imwrite('C:\\/Users\\/Suvrajit\\/Desktop\\/update1/'+s[i], img)\n",
    "    i=i+1\n",
    "print(\"Done\")"
   ]
  },
  {
   "cell_type": "code",
   "execution_count": 10,
   "metadata": {},
   "outputs": [],
   "source": [
    "import cv2\n",
    "import os\n",
    "\n",
    "path =  'H:\\/Final year project\\/final\\/col\\/94/'\n",
    "dirs1 = os.listdir(path)\n",
    "for item1 in dirs1:\n",
    "    img = path + item1\n",
    "    img = cv2.imread(img)\n",
    "    s=list(item1)\n",
    "    s[0]='0'\n",
    "    tm=\"\".join(s)#new_name\n",
    "    cv2.imwrite('H:\\/Final year project\\/Suvrrajit\\/dataset\\/squreerase\\/check/'+tm, img)"
   ]
  },
  {
   "cell_type": "code",
   "execution_count": 1,
   "metadata": {},
   "outputs": [],
   "source": [
    "import os"
   ]
  },
  {
   "cell_type": "code",
   "execution_count": 1,
   "metadata": {},
   "outputs": [],
   "source": [
    "import os\n",
    "distD = 'H:\\/Final year project\\/final\\/adjust/'\n",
    "for i in range(120):\n",
    "    try:\n",
    "        os.makedirs(distD + str(i))\n",
    "    except Exception as e:\n",
    "        print(e)"
   ]
  },
  {
   "cell_type": "code",
   "execution_count": 3,
   "metadata": {
    "collapsed": true
   },
   "outputs": [],
   "source": [
    "import os\n",
    "for i in ['row','char','main','scan']:\n",
    "    os.makedirs('oldWork/defact/male/'+i)"
   ]
  },
  {
   "cell_type": "code",
   "execution_count": 17,
   "metadata": {},
   "outputs": [],
   "source": [
    "import os\n",
    "for i in range(120):\n",
    "    os.makedirs('H:\\/Final year project\\/male\\/male/'+str(i)+'/')"
   ]
  },
  {
   "cell_type": "code",
   "execution_count": 6,
   "metadata": {},
   "outputs": [],
   "source": [
    "import cv2\n",
    "import os\n",
    "path1 =  'H:\\/Final year project\\/for upload/'\n",
    "\n",
    "for i in range(120):\n",
    "    tmp=path1+'/main/'+str(i)+'/'\n",
    "    dirs = os.listdir(tmp)\n",
    "    ct=1\n",
    "    for item in dirs:\n",
    "        image=cv2.imread(tmp+item)\n",
    "        if(ct<380):\n",
    "            cv2.imwrite(path1+'/test/'+str(i)+'/'+item,image)\n",
    "        else:\n",
    "            cv2.imwrite(path1+'/train/'+str(i)+'/'+item,image)\n",
    "        ct=ct+1"
   ]
  },
  {
   "cell_type": "code",
   "execution_count": null,
   "metadata": {},
   "outputs": [],
   "source": []
  }
 ],
 "metadata": {
  "kernelspec": {
   "display_name": "Python 3",
   "language": "python",
   "name": "python3"
  },
  "language_info": {
   "codemirror_mode": {
    "name": "ipython",
    "version": 3
   },
   "file_extension": ".py",
   "mimetype": "text/x-python",
   "name": "python",
   "nbconvert_exporter": "python",
   "pygments_lexer": "ipython3",
   "version": "3.7.1"
  }
 },
 "nbformat": 4,
 "nbformat_minor": 2
}
