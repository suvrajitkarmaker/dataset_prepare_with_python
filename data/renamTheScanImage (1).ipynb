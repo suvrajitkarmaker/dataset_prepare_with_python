{
 "cells": [
  {
   "cell_type": "code",
   "execution_count": 1,
   "metadata": {
    "scrolled": true
   },
   "outputs": [
    {
     "data": {
      "text/plain": [
       "'3.4.0'"
      ]
     },
     "execution_count": 1,
     "metadata": {},
     "output_type": "execute_result"
    }
   ],
   "source": [
    "import os\n",
    "import cv2\n",
    "cv2.__version__"
   ]
  },
  {
   "cell_type": "code",
   "execution_count": 2,
   "metadata": {},
   "outputs": [
    {
     "name": "stdout",
     "output_type": "stream",
     "text": [
      "age 19\n",
      "dist COM\n",
      "0_COM_19_3_1500\n",
      "age 18\n",
      "dist com\n",
      "0_COM_18_3_1501\n",
      "age 19\n",
      "dist com\n",
      "0_COM_19_3_1502\n",
      "age 19\n",
      "dist com\n",
      "0_COM_19_3_1503\n",
      "age 20\n",
      "dist ran\n",
      "0_RAN_20_3_1504\n",
      "age 19\n",
      "dist gaz\n",
      "0_GAZ_19_3_1505\n",
      "age 20\n",
      "dist bog\n",
      "0_BOG_20_3_1506\n",
      "age 20\n",
      "dist bog\n",
      "0_BOG_20_3_1507\n",
      "age 20\n",
      "dist khu\n",
      "0_KHU_20_3_1508\n",
      "age 18\n",
      "dist sat\n",
      "0_SAT_18_3_1509\n",
      "age 21\n",
      "dist nat\n",
      "0_NAT_21_3_1510\n",
      "age 20\n",
      "dist khu\n",
      "0_KHU_20_3_1511\n"
     ]
    }
   ],
   "source": [
    "path = 'scan/'\n",
    "dirs = os.listdir(path)\n",
    "s = 1500\n",
    "for items in dirs:\n",
    "    img = path + items\n",
    "    img = cv2.imread(img)\n",
    "    temp = cv2.resize(img,(1000,1000))\n",
    "    temp = temp[0:188, 20:-24]\n",
    "    cv2.imshow(str(items),temp)\n",
    "    cv2.waitKey(0)\n",
    "    age = input('age ')\n",
    "    dis = input('dist ')\n",
    "#     edu = input('Edu 1 for school, 2 for collage 3 for uni ')\n",
    "#     ser = input('Serial ')\n",
    "    ser = str(s)\n",
    "#     print(s)\n",
    "    s+=1\n",
    "    r = '0_'+dis.upper() + '_' + age + '_' + '3' + '_' + ser\n",
    "    \n",
    "    if os.path.exists(path+'renameM/'+r+'.jpg'):\n",
    "        print('Errr')\n",
    "    else:          \n",
    "        cv2.imwrite('renameM/'+r+'.jpg', img)\n",
    "        print(r)\n",
    "        os.remove(path+items)\n",
    "        cv2.destroyAllWindows()"
   ]
  },
  {
   "cell_type": "code",
   "execution_count": null,
   "metadata": {
    "collapsed": true
   },
   "outputs": [],
   "source": [
    "# temp = temp[0:188, 20:-24]\n",
    "# cv2.imshow(str(items),temp)\n",
    "# cv2.waitKey(0)\n",
    "# age = input('age ')\n",
    "# dis = input('dist ')"
   ]
  },
  {
   "cell_type": "code",
   "execution_count": null,
   "metadata": {
    "collapsed": true
   },
   "outputs": [],
   "source": [
    "# for items in dirs:\n",
    "#     img = path + items\n",
    "#     img = cv2.imread(img)\n",
    "#     temp = cv2.resize(img,(783,848))\n",
    "#     cv2.imshow('ff',temp)\n",
    "#     cv2.waitKey(0)\n",
    "#     r = input()\n",
    "#     cv2.imwrite('31marchNEw/'+r+'.jpg', img)\n",
    "    "
   ]
  },
  {
   "cell_type": "code",
   "execution_count": null,
   "metadata": {
    "collapsed": true
   },
   "outputs": [],
   "source": [
    "# ! conda install -c conda-forge opencv "
   ]
  },
  {
   "cell_type": "code",
   "execution_count": null,
   "metadata": {
    "collapsed": true
   },
   "outputs": [],
   "source": []
  }
 ],
 "metadata": {
  "kernelspec": {
   "display_name": "Python 3",
   "language": "python",
   "name": "python3"
  },
  "language_info": {
   "codemirror_mode": {
    "name": "ipython",
    "version": 3
   },
   "file_extension": ".py",
   "mimetype": "text/x-python",
   "name": "python",
   "nbconvert_exporter": "python",
   "pygments_lexer": "ipython3",
   "version": "3.7.1"
  }
 },
 "nbformat": 4,
 "nbformat_minor": 2
}
