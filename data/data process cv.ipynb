{
 "cells": [
  {
   "cell_type": "markdown",
   "metadata": {},
   "source": [
    "# Code for crop full "
   ]
  },
  {
   "cell_type": "code",
   "execution_count": 1,
   "metadata": {},
   "outputs": [
    {
     "ename": "AttributeError",
     "evalue": "'NoneType' object has no attribute 'copy'",
     "output_type": "error",
     "traceback": [
      "\u001b[1;31m---------------------------------------------------------------------------\u001b[0m",
      "\u001b[1;31mAttributeError\u001b[0m                            Traceback (most recent call last)",
      "\u001b[1;32m<ipython-input-1-89b053b1b105>\u001b[0m in \u001b[0;36m<module>\u001b[1;34m()\u001b[0m\n\u001b[0;32m     49\u001b[0m \u001b[1;31m# gray=cv2.GaussianBlur(gray,(11,11),0)\u001b[0m\u001b[1;33m\u001b[0m\u001b[1;33m\u001b[0m\u001b[0m\n\u001b[0;32m     50\u001b[0m \u001b[0medge\u001b[0m\u001b[1;33m=\u001b[0m\u001b[0mcv2\u001b[0m\u001b[1;33m.\u001b[0m\u001b[0mCanny\u001b[0m\u001b[1;33m(\u001b[0m\u001b[0mimg\u001b[0m\u001b[1;33m,\u001b[0m\u001b[1;36m10\u001b[0m\u001b[1;33m,\u001b[0m\u001b[1;36m200\u001b[0m\u001b[1;33m)\u001b[0m\u001b[1;33m\u001b[0m\u001b[0m\n\u001b[1;32m---> 51\u001b[1;33m \u001b[0m_\u001b[0m\u001b[1;33m,\u001b[0m\u001b[0mcontours\u001b[0m\u001b[1;33m,\u001b[0m\u001b[0m_\u001b[0m\u001b[1;33m=\u001b[0m\u001b[0mcv2\u001b[0m\u001b[1;33m.\u001b[0m\u001b[0mfindContours\u001b[0m\u001b[1;33m(\u001b[0m\u001b[0medge\u001b[0m\u001b[1;33m.\u001b[0m\u001b[0mcopy\u001b[0m\u001b[1;33m(\u001b[0m\u001b[1;33m)\u001b[0m\u001b[1;33m,\u001b[0m\u001b[1;36m1\u001b[0m\u001b[1;33m,\u001b[0m\u001b[1;36m1\u001b[0m\u001b[1;33m)\u001b[0m\u001b[1;33m\u001b[0m\u001b[0m\n\u001b[0m\u001b[0;32m     52\u001b[0m \u001b[1;31m# cv2.drawContours(img,contours,-1,[0,255,0],2)\u001b[0m\u001b[1;33m\u001b[0m\u001b[1;33m\u001b[0m\u001b[0m\n\u001b[0;32m     53\u001b[0m \u001b[1;31m# cv2.imshow('Contours',img)\u001b[0m\u001b[1;33m\u001b[0m\u001b[1;33m\u001b[0m\u001b[0m\n",
      "\u001b[1;31mAttributeError\u001b[0m: 'NoneType' object has no attribute 'copy'"
     ]
    }
   ],
   "source": [
    "import cv2\n",
    "import numpy as np\n",
    "import os\n",
    " \n",
    "def transform(pos):\n",
    "# This function is used to find the corners of the object and the dimensions of the object\n",
    "    pts=[]\n",
    "    n=len(pos)\n",
    "    for i in range(n):\n",
    "        pts.append(list(pos[i][0]))\n",
    "       \n",
    "    sums={}\n",
    "    diffs={}\n",
    "    tl=tr=bl=br=0\n",
    "    for i in pts:\n",
    "        x=i[0]\n",
    "        y=i[1]\n",
    "        sum=x+y\n",
    "        diff=y-x\n",
    "        sums[sum]=i\n",
    "        diffs[diff]=i\n",
    "    sums=sorted(sums.items())\n",
    "    diffs=sorted(diffs.items())\n",
    "    n=len(sums)\n",
    "    rect=[sums[0][1],diffs[0][1],diffs[n-1][1],sums[n-1][1]]\n",
    "    #      top-left   top-right   bottom-left   bottom-right\n",
    "   \n",
    "    h1=np.sqrt((rect[0][0]-rect[2][0])**2 + (rect[0][1]-rect[2][1])**2)     #height of left side\n",
    "    h2=np.sqrt((rect[1][0]-rect[3][0])**2 + (rect[1][1]-rect[3][1])**2)     #height of right side\n",
    "    h=max(h1,h2)\n",
    "   \n",
    "    w1=np.sqrt((rect[0][0]-rect[1][0])**2 + (rect[0][1]-rect[1][1])**2)     #width of upper side\n",
    "    w2=np.sqrt((rect[2][0]-rect[3][0])**2 + (rect[2][1]-rect[3][1])**2)     #width of lower side\n",
    "    w=max(w1,w2)\n",
    "   \n",
    "    return int(w),int(h),rect\n",
    " \n",
    "img=cv2.imread('femalej/009.jpg')\n",
    "# r=500.0 / img.shape[1]\n",
    "# dim=(793, 1122)\n",
    "# dim=(1654, 2339)\n",
    "dim=(2556, 3543)\n",
    "\n",
    "\n",
    "# img=cv2.resize(img, dim, interpolation = cv2.INTER_AREA)\n",
    " \n",
    "# cv2.imshow('INPUT',img)\n",
    "# gray=cv2.cvtColor(img,cv2.COLOR_BGR2GRAY)\n",
    "# gray=cv2.GaussianBlur(gray,(11,11),0)\n",
    "edge=cv2.Canny(img,10,200)\n",
    "_,contours,_=cv2.findContours(edge.copy(),1,1)\n",
    "# cv2.drawContours(img,contours,-1,[0,255,0],2)\n",
    "# cv2.imshow('Contours',img)\n",
    "n=len(contours)\n",
    "max_area=0\n",
    "pos=0\n",
    "for i in contours:\n",
    "    area=cv2.contourArea(i)\n",
    "    if area>max_area:\n",
    "        max_area=area\n",
    "        pos=i\n",
    "peri=cv2.arcLength(pos,True)\n",
    "approx=cv2.approxPolyDP(pos,0.02*peri,True)\n",
    " \n",
    "size=img.shape\n",
    "w,h,arr=transform(approx)\n",
    " \n",
    "pts2=np.float32([[0,0],[w,0],[0,h],[w,h]])\n",
    "pts1=np.float32(arr)\n",
    "M=cv2.getPerspectiveTransform(pts1,pts2)\n",
    "dst=cv2.warpPerspective(img,M,(w,h))\n",
    "image=cv2.cvtColor(dst,cv2.COLOR_BGR2GRAY)\n",
    "# image=cv2.adaptiveThreshold(image,255,1,0,11,2)\n",
    "image = cv2.resize(image,(w,h),interpolation = cv2.INTER_AREA)\n",
    "# cv2.imshow('OUTPUT',image)\n",
    "cv2.imwrite('new.jpg',image)\n",
    "cv2.waitKey(0)\n",
    "cv2.destroyAllWindows()"
   ]
  },
  {
   "cell_type": "code",
   "execution_count": 1,
   "metadata": {
    "scrolled": true
   },
   "outputs": [
    {
     "name": "stdout",
     "output_type": "stream",
     "text": [
      "1.197674418604651\n"
     ]
    },
    {
     "ename": "NameError",
     "evalue": "name 'image' is not defined",
     "output_type": "error",
     "traceback": [
      "\u001b[0;31m---------------------------------------------------------------------------\u001b[0m",
      "\u001b[0;31mNameError\u001b[0m                                 Traceback (most recent call last)",
      "\u001b[0;32m<ipython-input-1-382b50ac3969>\u001b[0m in \u001b[0;36m<module>\u001b[0;34m()\u001b[0m\n\u001b[1;32m      1\u001b[0m \u001b[0mprint\u001b[0m\u001b[0;34m(\u001b[0m\u001b[0;36m1957\u001b[0m\u001b[0;34m/\u001b[0m\u001b[0;36m1634\u001b[0m\u001b[0;34m)\u001b[0m\u001b[0;34m\u001b[0m\u001b[0m\n\u001b[0;32m----> 2\u001b[0;31m \u001b[0mimage\u001b[0m\u001b[0;34m.\u001b[0m\u001b[0mshape\u001b[0m\u001b[0;34m[\u001b[0m\u001b[0;36m0\u001b[0m\u001b[0;34m]\u001b[0m \u001b[0;34m/\u001b[0m \u001b[0mimage\u001b[0m\u001b[0;34m.\u001b[0m\u001b[0mshape\u001b[0m\u001b[0;34m[\u001b[0m\u001b[0;36m1\u001b[0m\u001b[0;34m]\u001b[0m\u001b[0;34m\u001b[0m\u001b[0m\n\u001b[0m",
      "\u001b[0;31mNameError\u001b[0m: name 'image' is not defined"
     ]
    }
   ],
   "source": [
    "print(1957/1634)\n",
    "image.shape[0] / image.shape[1]"
   ]
  },
  {
   "cell_type": "code",
   "execution_count": 2,
   "metadata": {
    "collapsed": true
   },
   "outputs": [],
   "source": [
    "from PIL import Image\n",
    "\n",
    "im = Image.open(\"fEMALE DEFACT/01 (3).png\")\n",
    "rgb_im = im.convert('RGB')\n",
    "rgb_im.save('colors.jpg')"
   ]
  },
  {
   "cell_type": "code",
   "execution_count": null,
   "metadata": {
    "collapsed": true
   },
   "outputs": [],
   "source": []
  },
  {
   "cell_type": "code",
   "execution_count": 24,
   "metadata": {},
   "outputs": [
    {
     "data": {
      "text/plain": [
       "-1"
      ]
     },
     "execution_count": 24,
     "metadata": {},
     "output_type": "execute_result"
    }
   ],
   "source": [
    "# load the shapes image, convert it to grayscale, and edge edges in\n",
    "# the image\n",
    "import cv2\n",
    "image = cv2.imread(\"new.jpg\")\n",
    "# cropped = image[35:106, 4:-14] # First Line\n",
    "\n",
    "# cropped = image[136+101+101:136+101+101+71, 4:-14] # 4th  Line\n",
    "\n",
    "u = 35\n",
    "for i in range(10):\n",
    "    cropped = image[u:u+71, 4:-14]\n",
    "    u += 101\n",
    "    cv2.imwrite('aa/cropped'+str(i)+'.jpg',cropped)\n",
    "    cv2.imshow(\"cropped\", cropped)\n",
    "\n",
    "\n",
    "# cropped = cv2.bitwise_not(cropped)\n",
    "cv2.imshow(\"cropped\", cropped)\n",
    "# cv2.imwrite('cropped.jpg',cropped)\n",
    "# cv2.imwrite('aa/cropped'+str(i)+'.jpg',cropped)\n",
    "\n",
    "cv2.waitKey(0)"
   ]
  },
  {
   "cell_type": "code",
   "execution_count": 3,
   "metadata": {
    "collapsed": true
   },
   "outputs": [],
   "source": [
    "import cv2\n",
    "image = cv2.imread(\"new.jpg\")\n",
    "cropped = image[35:106, 4:-14] # First Line\n",
    "# cropped = image[0:100, 4:-14]\n",
    "# u += 101\n",
    "cv2.imshow(\"cropped\", cropped)\n",
    "# cv2.imwrite('aa/cropped'+str(i)+'.jpg',cropped)"
   ]
  },
  {
   "cell_type": "code",
   "execution_count": 6,
   "metadata": {},
   "outputs": [
    {
     "data": {
      "text/plain": [
       "-1"
      ]
     },
     "execution_count": 6,
     "metadata": {},
     "output_type": "execute_result"
    }
   ],
   "source": [
    "# load the shapes image, convert it to grayscale, and edge edges in\n",
    "# the image\n",
    "import cv2\n",
    "image = cv2.imread(\"new.jpg\")\n",
    "cropped = image[35:106, 4:-14] # First Line\n",
    "cropped = cropped[0:-1, 0:80]\n",
    "cv2.imshow(\"cropped\", cropped)\n",
    "# cv2.imwrite('cropped.jpg',cropped)\n",
    "\n",
    "cv2.waitKey(0)"
   ]
  },
  {
   "cell_type": "code",
   "execution_count": 1,
   "metadata": {},
   "outputs": [
    {
     "name": "stdout",
     "output_type": "stream",
     "text": [
      "Done\n"
     ]
    }
   ],
   "source": [
    "# load the shapes image, convert it to grayscale, and edge edges in\n",
    "# the image\n",
    "import cv2\n",
    "import os\n",
    "# image = cv2.imread(\"croped/resized/1_B.baria_25_3_00084.jpg\")\n",
    "path =  'CcropD/err/'\n",
    "dirs = os.listdir(path)\n",
    "loc = 'CcropD/err/'\n",
    "u = 50\n",
    "for item in dirs:\n",
    "    try:\n",
    "    #     image[0:129, 20:-14]\n",
    "#     cropped = image[u:u+79, 20:-14]\n",
    "        if os.path.isfile(path+item):\n",
    "            image=cv2.imread(path+item)\n",
    "            \n",
    "            cropped = image[10:120, 14:-20]\n",
    "            cv2.imwrite(loc+'0/'+item,cropped)\n",
    "#             cv2.imshow(\"cropped\", cropped)\n",
    "\n",
    "            cropped = image[185:295, 14:-20]\n",
    "            cv2.imwrite(loc+'1/'+item,cropped)\n",
    "#             cv2.imshow(\"cropped\", cropped)\n",
    "\n",
    "            cropped = image[355:465, 14:-20]\n",
    "            cv2.imwrite(loc+'2/'+item,cropped)\n",
    "#             cv2.imshow(\"cropped\", cropped)\n",
    "\n",
    "            cropped = image[520:630, 14:-20]\n",
    "            cv2.imwrite(loc+'3/'+item,cropped)\n",
    "#             cv2.imshow(\"cropped\", cropped)\n",
    "\n",
    "            cropped = image[695:805, 14:-20]\n",
    "            cv2.imwrite(loc+'4/'+item,cropped)\n",
    "#             cv2.imshow(\"cropped\", cropped)\n",
    "\n",
    "            cropped = image[865:975, 14:-20]\n",
    "            cv2.imwrite(loc+'5/'+item,cropped)\n",
    "#             cv2.imshow(\"cropped\", cropped)\n",
    "\n",
    "            cropped = image[1035:1145, 14:-20]\n",
    "            cv2.imwrite(loc+'6/'+item,cropped)\n",
    "#             cv2.imshow(\"cropped\", cropped)\n",
    "\n",
    "            cropped = image[1210:1320, 14:-20]\n",
    "            cv2.imwrite(loc+'7/'+item,cropped)\n",
    "#             cv2.imshow(\"cropped\", cropped)\n",
    "\n",
    "            cropped = image[1380:1490, 14:-20]\n",
    "            cv2.imwrite(loc+'8/'+item,cropped)\n",
    "#             cv2.imshow(\"cropped\", cropped)\n",
    "\n",
    "            cropped = image[1560:1670, 14:-20]\n",
    "            cv2.imwrite(loc+'9/'+item,cropped)\n",
    "#             cv2.imshow(\"cropped\", cropped)\n",
    "\n",
    "        cv2.waitKey(0)\n",
    "    except Exception as e:\n",
    "        print(item,e)\n",
    "print('Done')"
   ]
  },
  {
   "cell_type": "code",
   "execution_count": 35,
   "metadata": {},
   "outputs": [
    {
     "data": {
      "text/plain": [
       "-1"
      ]
     },
     "execution_count": 35,
     "metadata": {},
     "output_type": "execute_result"
    }
   ],
   "source": [
    "import cv2\n",
    "image = cv2.imread(\"aa/cropped0.jpg\")\n",
    "\n",
    "cropped1 = image[0:-1, 0:83]\n",
    "cropped1 = image[0:-1, 83:83+71]\n",
    "cropped1 = image[0:-1, 83+71:83+71+71]\n",
    "# cropped1 = image[0:-1, 83+83+83:83+83+83+83]\n",
    "\n",
    "\n",
    "cv2.imshow(\"cropped\", cropped1)\n",
    "\n",
    "cv2.waitKey(0)"
   ]
  },
  {
   "cell_type": "code",
   "execution_count": 77,
   "metadata": {},
   "outputs": [
    {
     "data": {
      "text/plain": [
       "-1"
      ]
     },
     "execution_count": 77,
     "metadata": {},
     "output_type": "execute_result"
    }
   ],
   "source": [
    "# load the shapes image, convert it to grayscale, and edge edges in\n",
    "# the image\n",
    "import cv2\n",
    "image = cv2.imread(\"new.jpg\")\n",
    "\n",
    "gray_image = cv2.cvtColor(image, cv2.COLOR_BGR2GRAY)\n",
    "\n",
    "cropped = image[50:129, 20:-14] # First Line\n",
    "cropped = cropped[0:-1, 0:73]\n",
    "cv2.imshow(\"cropped\", cropped)\n",
    "# cv2.imwrite('cropped.jpg',cropped)\n",
    "\n",
    "cv2.waitKey(0)"
   ]
  },
  {
   "cell_type": "code",
   "execution_count": 3,
   "metadata": {},
   "outputs": [
    {
     "data": {
      "text/plain": [
       "-1"
      ]
     },
     "execution_count": 3,
     "metadata": {},
     "output_type": "execute_result"
    }
   ],
   "source": [
    "import cv2\n",
    "image = cv2.imread(\"printcopy - Copy.jpg\")\n",
    "\n",
    "gray_image = cv2.cvtColor(image, cv2.COLOR_BGR2GRAY)\n",
    "\n",
    "cv2.imshow('color_image',image)             \n",
    "cv2.imshow('gray_image',gray_image) \n",
    "cv2.imwrite('gray.jpg',gray_image)\n",
    "\n",
    "cv2.waitKey(0)"
   ]
  },
  {
   "cell_type": "code",
   "execution_count": 1,
   "metadata": {},
   "outputs": [
    {
     "name": "stdout",
     "output_type": "stream",
     "text": [
      "Done 12\n",
      "Done 24\n",
      "Done 36\n",
      "Done 48\n",
      "Done 60\n",
      "Done 72\n",
      "Done 84\n",
      "Done 96\n",
      "Done 108\n",
      "Done 120\n",
      "Complete\n"
     ]
    }
   ],
   "source": [
    "import cv2\n",
    "import os\n",
    "\n",
    "u = 0\n",
    "loc = '../croped/resized/process/female/'\n",
    "\n",
    "for i in range(10):\n",
    "    path =  '../croped/resized/process/'+str(i)+'/'\n",
    "    dirs = os.listdir(path)\n",
    "\n",
    "    for item in dirs:\n",
    "        try:\n",
    "            if os.path.isfile(path+item):\n",
    "                image=cv2.imread(path+item)\n",
    "\n",
    "                # image=cv2.imread('croped/resized/process/5/1_Bog_20_3_00041.jpg')\n",
    "\n",
    "                cropped = image[2:-1, 1:116]\n",
    "                cv2.imwrite(loc+str(u)+'/'+item,cropped)\n",
    "                # cv2.imshow(\"cropped\", cropped)\n",
    "\n",
    "                cropped = image[2:-1, 125:245]\n",
    "                cv2.imwrite(loc+str(u+1)+'/'+item,cropped)\n",
    "                # cv2.imshow(\"cropped\", cropped)\n",
    "\n",
    "                cropped = image[2:-1, 255:365]\n",
    "                cv2.imwrite(loc +str(u+2)+'/'+item,cropped)\n",
    "                # cv2.imshow(\"cropped\", cropped)\n",
    "\n",
    "                cropped = image[2:-1, 380:495]\n",
    "                cv2.imwrite(loc +str(u+3)+'/'+item,cropped)\n",
    "                # cv2.imshow(\"cropped\", cropped)\n",
    "\n",
    "                cropped = image[2:-1, 512:617]\n",
    "                cv2.imwrite(loc +str(u+4)+'/'+item,cropped)\n",
    "                # cv2.imshow(\"cropped\", cropped)\n",
    "\n",
    "                cropped = image[2:-1, 630:745]\n",
    "                cv2.imwrite(loc +str(u+5)+'/'+item,cropped)\n",
    "                # cv2.imshow(\"cropped\", cropped)\n",
    "                \n",
    "                cropped = image[2:-1, 762:867]\n",
    "                cv2.imwrite(loc +str(u+6)+'/'+item,cropped)\n",
    "#                 cv2.imshow(\"cropped\", cropped)\n",
    "\n",
    "                cropped = image[2:-1, 882:997]\n",
    "                cv2.imwrite(loc +str(u+7)+'/'+item,cropped)\n",
    "                # cv2.imshow(\"cropped\", cropped)\n",
    "\n",
    "                cropped = image[2:-1, 1010:1125]\n",
    "                cv2.imwrite(loc+str(u+8)+'/'+item,cropped)\n",
    "                # cv2.imshow(\"cropped\", cropped)\n",
    "\n",
    "                cropped = image[2:-1, 1135:1250]\n",
    "                cv2.imwrite(loc+str(u+9)+'/'+item,cropped)\n",
    "                # cv2.imshow(\"cropped\", cropped)\n",
    "\n",
    "                cropped = image[2:-1, 1260:1375]\n",
    "                cv2.imwrite(loc+str(u+10)+'/'+item,cropped)\n",
    "                # cv2.imshow(\"cropped\", cropped)\n",
    "\n",
    "                cropped = image[2:-3, 1395:1500]\n",
    "                cv2.imwrite(loc +str(u+11)+'/'+item,cropped)\n",
    "                # cv2.imshow(\"cropped\", cropped)\n",
    "\n",
    "\n",
    "                cv2.waitKey(0)\n",
    "        except Exception as e:\n",
    "            print(item,e)\n",
    "    print('Done', u+12)\n",
    "    u+=12\n",
    "print('Complete')"
   ]
  },
  {
   "cell_type": "code",
   "execution_count": 4,
   "metadata": {},
   "outputs": [],
   "source": [
    "import cv2\n",
    "import os\n",
    "\n",
    "u = 0\n",
    "loc = '../croped/resized/process/female/'\n",
    "\n",
    "for i in range(1):\n",
    "    path =  '../error/error2/109/'\n",
    "    dirs = os.listdir(path)\n",
    "\n",
    "    for item in dirs:\n",
    "        try:\n",
    "            if os.path.isfile(path+item):\n",
    "                image=cv2.imread(path+item)\n",
    "                cropped = image[0:-5, 5:-2]\n",
    "                cv2.imwrite(path+item,cropped)\n",
    "        except:\n",
    "            print(item)"
   ]
  },
  {
   "cell_type": "code",
   "execution_count": null,
   "metadata": {
    "collapsed": true
   },
   "outputs": [],
   "source": []
  }
 ],
 "metadata": {
  "kernelspec": {
   "display_name": "Python 3",
   "language": "python",
   "name": "python3"
  },
  "language_info": {
   "codemirror_mode": {
    "name": "ipython",
    "version": 3
   },
   "file_extension": ".py",
   "mimetype": "text/x-python",
   "name": "python",
   "nbconvert_exporter": "python",
   "pygments_lexer": "ipython3",
   "version": "3.7.1"
  }
 },
 "nbformat": 4,
 "nbformat_minor": 2
}
